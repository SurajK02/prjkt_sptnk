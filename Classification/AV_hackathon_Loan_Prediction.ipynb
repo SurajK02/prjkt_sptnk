{
 "cells": [
  {
   "cell_type": "code",
   "execution_count": 1,
   "id": "invalid-midwest",
   "metadata": {},
   "outputs": [],
   "source": [
    "import pandas as pd\n",
    "import numpy as np\n",
    "import seaborn as sns\n",
    "import matplotlib.pyplot as plt"
   ]
  },
  {
   "cell_type": "code",
   "execution_count": 2,
   "id": "recent-session",
   "metadata": {},
   "outputs": [],
   "source": [
    "train_df = pd.read_csv(r\"E:\\conda_workdir\\hacks\\loan prediction\\train_ctrUa4K.csv\")\n",
    "test_df  = pd.read_csv(r\"E:\\conda_workdir\\hacks\\loan prediction\\test_lAUu6dG.csv\")"
   ]
  },
  {
   "cell_type": "code",
   "execution_count": 3,
   "id": "sixth-interface",
   "metadata": {},
   "outputs": [
    {
     "name": "stdout",
     "output_type": "stream",
     "text": [
      "<class 'pandas.core.frame.DataFrame'>\n",
      "RangeIndex: 614 entries, 0 to 613\n",
      "Data columns (total 13 columns):\n",
      " #   Column             Non-Null Count  Dtype  \n",
      "---  ------             --------------  -----  \n",
      " 0   Loan_ID            614 non-null    object \n",
      " 1   Gender             601 non-null    object \n",
      " 2   Married            611 non-null    object \n",
      " 3   Dependents         599 non-null    object \n",
      " 4   Education          614 non-null    object \n",
      " 5   Self_Employed      582 non-null    object \n",
      " 6   ApplicantIncome    614 non-null    int64  \n",
      " 7   CoapplicantIncome  614 non-null    float64\n",
      " 8   LoanAmount         592 non-null    float64\n",
      " 9   Loan_Amount_Term   600 non-null    float64\n",
      " 10  Credit_History     564 non-null    float64\n",
      " 11  Property_Area      614 non-null    object \n",
      " 12  Loan_Status        614 non-null    object \n",
      "dtypes: float64(4), int64(1), object(8)\n",
      "memory usage: 62.5+ KB\n"
     ]
    }
   ],
   "source": [
    "train_df.info()"
   ]
  },
  {
   "cell_type": "code",
   "execution_count": 4,
   "id": "forced-shirt",
   "metadata": {},
   "outputs": [
    {
     "name": "stdout",
     "output_type": "stream",
     "text": [
      "<class 'pandas.core.frame.DataFrame'>\n",
      "RangeIndex: 367 entries, 0 to 366\n",
      "Data columns (total 12 columns):\n",
      " #   Column             Non-Null Count  Dtype  \n",
      "---  ------             --------------  -----  \n",
      " 0   Loan_ID            367 non-null    object \n",
      " 1   Gender             356 non-null    object \n",
      " 2   Married            367 non-null    object \n",
      " 3   Dependents         357 non-null    object \n",
      " 4   Education          367 non-null    object \n",
      " 5   Self_Employed      344 non-null    object \n",
      " 6   ApplicantIncome    367 non-null    int64  \n",
      " 7   CoapplicantIncome  367 non-null    int64  \n",
      " 8   LoanAmount         362 non-null    float64\n",
      " 9   Loan_Amount_Term   361 non-null    float64\n",
      " 10  Credit_History     338 non-null    float64\n",
      " 11  Property_Area      367 non-null    object \n",
      "dtypes: float64(3), int64(2), object(7)\n",
      "memory usage: 34.5+ KB\n"
     ]
    }
   ],
   "source": [
    "test_df.info()"
   ]
  },
  {
   "cell_type": "code",
   "execution_count": 5,
   "id": "related-classic",
   "metadata": {},
   "outputs": [
    {
     "name": "stdout",
     "output_type": "stream",
     "text": [
      "Y    422\n",
      "N    192\n",
      "Name: Loan_Status, dtype: int64\n"
     ]
    }
   ],
   "source": [
    "print(train_df.Loan_Status.value_counts())"
   ]
  },
  {
   "cell_type": "code",
   "execution_count": 6,
   "id": "cross-latex",
   "metadata": {},
   "outputs": [
    {
     "data": {
      "text/plain": [
       "Loan_ID              0.000000\n",
       "Gender               2.117264\n",
       "Married              0.488599\n",
       "Dependents           2.442997\n",
       "Education            0.000000\n",
       "Self_Employed        5.211726\n",
       "ApplicantIncome      0.000000\n",
       "CoapplicantIncome    0.000000\n",
       "LoanAmount           3.583062\n",
       "Loan_Amount_Term     2.280130\n",
       "Credit_History       8.143322\n",
       "Property_Area        0.000000\n",
       "Loan_Status          0.000000\n",
       "dtype: float64"
      ]
     },
     "execution_count": 6,
     "metadata": {},
     "output_type": "execute_result"
    }
   ],
   "source": [
    "train_df.isnull().sum() / train_df.shape[0] * 100"
   ]
  },
  {
   "cell_type": "code",
   "execution_count": 7,
   "id": "similar-differential",
   "metadata": {},
   "outputs": [
    {
     "data": {
      "text/html": [
       "<div>\n",
       "<style scoped>\n",
       "    .dataframe tbody tr th:only-of-type {\n",
       "        vertical-align: middle;\n",
       "    }\n",
       "\n",
       "    .dataframe tbody tr th {\n",
       "        vertical-align: top;\n",
       "    }\n",
       "\n",
       "    .dataframe thead th {\n",
       "        text-align: right;\n",
       "    }\n",
       "</style>\n",
       "<table border=\"1\" class=\"dataframe\">\n",
       "  <thead>\n",
       "    <tr style=\"text-align: right;\">\n",
       "      <th></th>\n",
       "      <th>Loan_ID</th>\n",
       "      <th>Gender</th>\n",
       "      <th>Married</th>\n",
       "      <th>Dependents</th>\n",
       "      <th>Education</th>\n",
       "      <th>Self_Employed</th>\n",
       "      <th>ApplicantIncome</th>\n",
       "      <th>CoapplicantIncome</th>\n",
       "      <th>LoanAmount</th>\n",
       "      <th>Loan_Amount_Term</th>\n",
       "      <th>Credit_History</th>\n",
       "      <th>Property_Area</th>\n",
       "      <th>Loan_Status</th>\n",
       "    </tr>\n",
       "  </thead>\n",
       "  <tbody>\n",
       "    <tr>\n",
       "      <th>0</th>\n",
       "      <td>LP001002</td>\n",
       "      <td>Male</td>\n",
       "      <td>No</td>\n",
       "      <td>0</td>\n",
       "      <td>Graduate</td>\n",
       "      <td>No</td>\n",
       "      <td>5849</td>\n",
       "      <td>0.0</td>\n",
       "      <td>NaN</td>\n",
       "      <td>360.0</td>\n",
       "      <td>1.0</td>\n",
       "      <td>Urban</td>\n",
       "      <td>Y</td>\n",
       "    </tr>\n",
       "    <tr>\n",
       "      <th>1</th>\n",
       "      <td>LP001003</td>\n",
       "      <td>Male</td>\n",
       "      <td>Yes</td>\n",
       "      <td>1</td>\n",
       "      <td>Graduate</td>\n",
       "      <td>No</td>\n",
       "      <td>4583</td>\n",
       "      <td>1508.0</td>\n",
       "      <td>128.0</td>\n",
       "      <td>360.0</td>\n",
       "      <td>1.0</td>\n",
       "      <td>Rural</td>\n",
       "      <td>N</td>\n",
       "    </tr>\n",
       "    <tr>\n",
       "      <th>2</th>\n",
       "      <td>LP001005</td>\n",
       "      <td>Male</td>\n",
       "      <td>Yes</td>\n",
       "      <td>0</td>\n",
       "      <td>Graduate</td>\n",
       "      <td>Yes</td>\n",
       "      <td>3000</td>\n",
       "      <td>0.0</td>\n",
       "      <td>66.0</td>\n",
       "      <td>360.0</td>\n",
       "      <td>1.0</td>\n",
       "      <td>Urban</td>\n",
       "      <td>Y</td>\n",
       "    </tr>\n",
       "    <tr>\n",
       "      <th>3</th>\n",
       "      <td>LP001006</td>\n",
       "      <td>Male</td>\n",
       "      <td>Yes</td>\n",
       "      <td>0</td>\n",
       "      <td>Not Graduate</td>\n",
       "      <td>No</td>\n",
       "      <td>2583</td>\n",
       "      <td>2358.0</td>\n",
       "      <td>120.0</td>\n",
       "      <td>360.0</td>\n",
       "      <td>1.0</td>\n",
       "      <td>Urban</td>\n",
       "      <td>Y</td>\n",
       "    </tr>\n",
       "    <tr>\n",
       "      <th>4</th>\n",
       "      <td>LP001008</td>\n",
       "      <td>Male</td>\n",
       "      <td>No</td>\n",
       "      <td>0</td>\n",
       "      <td>Graduate</td>\n",
       "      <td>No</td>\n",
       "      <td>6000</td>\n",
       "      <td>0.0</td>\n",
       "      <td>141.0</td>\n",
       "      <td>360.0</td>\n",
       "      <td>1.0</td>\n",
       "      <td>Urban</td>\n",
       "      <td>Y</td>\n",
       "    </tr>\n",
       "  </tbody>\n",
       "</table>\n",
       "</div>"
      ],
      "text/plain": [
       "    Loan_ID Gender Married Dependents     Education Self_Employed  \\\n",
       "0  LP001002   Male      No          0      Graduate            No   \n",
       "1  LP001003   Male     Yes          1      Graduate            No   \n",
       "2  LP001005   Male     Yes          0      Graduate           Yes   \n",
       "3  LP001006   Male     Yes          0  Not Graduate            No   \n",
       "4  LP001008   Male      No          0      Graduate            No   \n",
       "\n",
       "   ApplicantIncome  CoapplicantIncome  LoanAmount  Loan_Amount_Term  \\\n",
       "0             5849                0.0         NaN             360.0   \n",
       "1             4583             1508.0       128.0             360.0   \n",
       "2             3000                0.0        66.0             360.0   \n",
       "3             2583             2358.0       120.0             360.0   \n",
       "4             6000                0.0       141.0             360.0   \n",
       "\n",
       "   Credit_History Property_Area Loan_Status  \n",
       "0             1.0         Urban           Y  \n",
       "1             1.0         Rural           N  \n",
       "2             1.0         Urban           Y  \n",
       "3             1.0         Urban           Y  \n",
       "4             1.0         Urban           Y  "
      ]
     },
     "execution_count": 7,
     "metadata": {},
     "output_type": "execute_result"
    }
   ],
   "source": [
    "train_df.head()"
   ]
  },
  {
   "cell_type": "code",
   "execution_count": 8,
   "id": "original-zimbabwe",
   "metadata": {},
   "outputs": [
    {
     "data": {
      "image/png": "[encoded data removed]",
      "text/plain": [
       "<Figure size 360x360 with 1 Axes>"
      ]
     },
     "metadata": {
      "needs_background": "light"
     },
     "output_type": "display_data"
    },
    {
     "data": {
      "image/png": "[encoded data removed]",
      "text/plain": [
       "<Figure size 360x360 with 1 Axes>"
      ]
     },
     "metadata": {
      "needs_background": "light"
     },
     "output_type": "display_data"
    },
    {
     "data": {
      "image/png": "[encoded data removed]",
      "text/plain": [
       "<Figure size 360x360 with 1 Axes>"
      ]
     },
     "metadata": {
      "needs_background": "light"
     },
     "output_type": "display_data"
    },
    {
     "data": {
      "image/png": "[encoded data removed]",
      "text/plain": [
       "<Figure size 360x360 with 1 Axes>"
      ]
     },
     "metadata": {
      "needs_background": "light"
     },
     "output_type": "display_data"
    },
    {
     "data": {
      "image/png": "[encoded data removed]",
      "text/plain": [
       "<Figure size 360x360 with 1 Axes>"
      ]
     },
     "metadata": {
      "needs_background": "light"
     },
     "output_type": "display_data"
    }
   ],
   "source": [
    "for i in train_df.columns:\n",
    "    if train_df[i].dtype == \"int64\" or train_df[i].dtype == \"float64\" :\n",
    "        sns.displot(train_df[i])"
   ]
  },
  {
   "cell_type": "code",
   "execution_count": 9,
   "id": "spanish-maldives",
   "metadata": {},
   "outputs": [
    {
     "data": {
      "text/plain": [
       "<AxesSubplot:xlabel='Married', ylabel='Credit_History'>"
      ]
     },
     "execution_count": 9,
     "metadata": {},
     "output_type": "execute_result"
    },
    {
     "data": {
      "image/png": "[encoded data removed]",
      "text/plain": [
       "<Figure size 432x288 with 1 Axes>"
      ]
     },
     "metadata": {
      "needs_background": "light"
     },
     "output_type": "display_data"
    }
   ],
   "source": [
    "sns.barplot(data=train_df, x=\"Married\", y=\"Credit_History\")"
   ]
  },
  {
   "cell_type": "markdown",
   "id": "underlying-filling",
   "metadata": {},
   "source": [
    "###################################################################################################################"
   ]
  },
  {
   "cell_type": "code",
   "execution_count": 10,
   "id": "basic-interpretation",
   "metadata": {},
   "outputs": [],
   "source": [
    "train_df1 = train_df.copy(deep=True)"
   ]
  },
  {
   "cell_type": "code",
   "execution_count": 11,
   "id": "published-gossip",
   "metadata": {},
   "outputs": [],
   "source": [
    "test_df1 = test_df.copy(deep=True)"
   ]
  },
  {
   "cell_type": "code",
   "execution_count": 12,
   "id": "scientific-engagement",
   "metadata": {},
   "outputs": [
    {
     "data": {
      "text/plain": [
       "0    1.0\n",
       "dtype: float64"
      ]
     },
     "execution_count": 12,
     "metadata": {},
     "output_type": "execute_result"
    }
   ],
   "source": [
    "train_df1[\"Credit_History\"].mode()"
   ]
  },
  {
   "cell_type": "code",
   "execution_count": 13,
   "id": "pressing-assignment",
   "metadata": {},
   "outputs": [],
   "source": [
    "# impute null\n",
    "\n",
    "gender_impute = train_df1[\"Gender\"].mode()[0]\n",
    "married_impute = train_df1[\"Married\"].mode()[0]\n",
    "dependents_impute = train_df1[\"Dependents\"].mode()[0]\n",
    "self_employed_impute = train_df1[\"Self_Employed\"].mode()[0]\n",
    "loan_amount_impute = train_df1[\"LoanAmount\"].median()\n",
    "loan_term_impute = train_df1[\"Loan_Amount_Term\"].median()\n",
    "credit_history_impute = train_df1[\"Credit_History\"].mode()[0]\n",
    "\n",
    "def impute_null(df, gender_impute, married_impute, dependents_impute, self_employed_impute, loan_amount_impute, loan_term_impute, credit_history_impute):\n",
    "    df[\"Gender\"] = df[\"Gender\"].fillna(value=gender_impute)\n",
    "    df[\"Married\"] = df[\"Married\"].fillna(value=married_impute)\n",
    "    df[\"Dependents\"] = df[\"Dependents\"].fillna(value=dependents_impute)\n",
    "    df[\"Self_Employed\"] = df[\"Self_Employed\"].fillna(value=self_employed_impute)\n",
    "    df[\"LoanAmount\"] = df[\"LoanAmount\"].fillna(value=loan_amount_impute)\n",
    "    df[\"Loan_Amount_Term\"] = df[\"Loan_Amount_Term\"].fillna(value=loan_term_impute)\n",
    "    df[\"Credit_History\"] = df[\"Credit_History\"].fillna(value=credit_history_impute)\n",
    "    \n",
    "    return df\n",
    "    \n",
    "train_df1 = impute_null(train_df1, gender_impute, married_impute, dependents_impute, self_employed_impute, loan_amount_impute, loan_term_impute, credit_history_impute)         \n"
   ]
  },
  {
   "cell_type": "code",
   "execution_count": 14,
   "id": "comparable-publisher",
   "metadata": {},
   "outputs": [],
   "source": [
    "test_df1 = impute_null(test_df1, gender_impute, married_impute, dependents_impute, self_employed_impute, loan_amount_impute, loan_term_impute, credit_history_impute)                                       "
   ]
  },
  {
   "cell_type": "code",
   "execution_count": 15,
   "id": "determined-circus",
   "metadata": {},
   "outputs": [
    {
     "data": {
      "text/plain": [
       "Loan_ID              0\n",
       "Gender               0\n",
       "Married              0\n",
       "Dependents           0\n",
       "Education            0\n",
       "Self_Employed        0\n",
       "ApplicantIncome      0\n",
       "CoapplicantIncome    0\n",
       "LoanAmount           0\n",
       "Loan_Amount_Term     0\n",
       "Credit_History       0\n",
       "Property_Area        0\n",
       "Loan_Status          0\n",
       "dtype: int64"
      ]
     },
     "execution_count": 15,
     "metadata": {},
     "output_type": "execute_result"
    }
   ],
   "source": [
    "train_df1.isnull().sum()"
   ]
  },
  {
   "cell_type": "code",
   "execution_count": 16,
   "id": "floral-tackle",
   "metadata": {},
   "outputs": [],
   "source": [
    "def encode_bi_cat(df, cols):\n",
    "    for col in cols:\n",
    "        temp = df[col].unique()[0]\n",
    "        df[col] = df[col].apply(lambda x: 1 if x==temp else 0)\n",
    "    return df"
   ]
  },
  {
   "cell_type": "code",
   "execution_count": 17,
   "id": "finished-gibson",
   "metadata": {},
   "outputs": [],
   "source": [
    "bicat_cols = [\"Gender\", \"Married\", \"Education\", \"Self_Employed\"]\n",
    "\n",
    "train_df1 = encode_bi_cat(train_df1, bicat_cols)"
   ]
  },
  {
   "cell_type": "code",
   "execution_count": 18,
   "id": "secret-sudan",
   "metadata": {},
   "outputs": [],
   "source": [
    "test_df1 = encode_bi_cat(test_df1, bicat_cols)"
   ]
  },
  {
   "cell_type": "code",
   "execution_count": 19,
   "id": "intended-characterization",
   "metadata": {},
   "outputs": [],
   "source": [
    "train_df1.Loan_Status = train_df1.Loan_Status.apply(lambda x: 1 if x==\"Y\" else 0)"
   ]
  },
  {
   "cell_type": "code",
   "execution_count": 20,
   "id": "competent-replica",
   "metadata": {},
   "outputs": [
    {
     "data": {
      "text/html": [
       "<div>\n",
       "<style scoped>\n",
       "    .dataframe tbody tr th:only-of-type {\n",
       "        vertical-align: middle;\n",
       "    }\n",
       "\n",
       "    .dataframe tbody tr th {\n",
       "        vertical-align: top;\n",
       "    }\n",
       "\n",
       "    .dataframe thead th {\n",
       "        text-align: right;\n",
       "    }\n",
       "</style>\n",
       "<table border=\"1\" class=\"dataframe\">\n",
       "  <thead>\n",
       "    <tr style=\"text-align: right;\">\n",
       "      <th></th>\n",
       "      <th>Loan_ID</th>\n",
       "      <th>Gender</th>\n",
       "      <th>Married</th>\n",
       "      <th>Dependents</th>\n",
       "      <th>Education</th>\n",
       "      <th>Self_Employed</th>\n",
       "      <th>ApplicantIncome</th>\n",
       "      <th>CoapplicantIncome</th>\n",
       "      <th>LoanAmount</th>\n",
       "      <th>Loan_Amount_Term</th>\n",
       "      <th>Credit_History</th>\n",
       "      <th>Property_Area</th>\n",
       "      <th>Loan_Status</th>\n",
       "    </tr>\n",
       "  </thead>\n",
       "  <tbody>\n",
       "    <tr>\n",
       "      <th>0</th>\n",
       "      <td>LP001002</td>\n",
       "      <td>1</td>\n",
       "      <td>1</td>\n",
       "      <td>0</td>\n",
       "      <td>1</td>\n",
       "      <td>1</td>\n",
       "      <td>5849</td>\n",
       "      <td>0.0</td>\n",
       "      <td>128.0</td>\n",
       "      <td>360.0</td>\n",
       "      <td>1.0</td>\n",
       "      <td>Urban</td>\n",
       "      <td>1</td>\n",
       "    </tr>\n",
       "    <tr>\n",
       "      <th>1</th>\n",
       "      <td>LP001003</td>\n",
       "      <td>1</td>\n",
       "      <td>0</td>\n",
       "      <td>1</td>\n",
       "      <td>1</td>\n",
       "      <td>1</td>\n",
       "      <td>4583</td>\n",
       "      <td>1508.0</td>\n",
       "      <td>128.0</td>\n",
       "      <td>360.0</td>\n",
       "      <td>1.0</td>\n",
       "      <td>Rural</td>\n",
       "      <td>0</td>\n",
       "    </tr>\n",
       "    <tr>\n",
       "      <th>2</th>\n",
       "      <td>LP001005</td>\n",
       "      <td>1</td>\n",
       "      <td>0</td>\n",
       "      <td>0</td>\n",
       "      <td>1</td>\n",
       "      <td>0</td>\n",
       "      <td>3000</td>\n",
       "      <td>0.0</td>\n",
       "      <td>66.0</td>\n",
       "      <td>360.0</td>\n",
       "      <td>1.0</td>\n",
       "      <td>Urban</td>\n",
       "      <td>1</td>\n",
       "    </tr>\n",
       "    <tr>\n",
       "      <th>3</th>\n",
       "      <td>LP001006</td>\n",
       "      <td>1</td>\n",
       "      <td>0</td>\n",
       "      <td>0</td>\n",
       "      <td>0</td>\n",
       "      <td>1</td>\n",
       "      <td>2583</td>\n",
       "      <td>2358.0</td>\n",
       "      <td>120.0</td>\n",
       "      <td>360.0</td>\n",
       "      <td>1.0</td>\n",
       "      <td>Urban</td>\n",
       "      <td>1</td>\n",
       "    </tr>\n",
       "    <tr>\n",
       "      <th>4</th>\n",
       "      <td>LP001008</td>\n",
       "      <td>1</td>\n",
       "      <td>1</td>\n",
       "      <td>0</td>\n",
       "      <td>1</td>\n",
       "      <td>1</td>\n",
       "      <td>6000</td>\n",
       "      <td>0.0</td>\n",
       "      <td>141.0</td>\n",
       "      <td>360.0</td>\n",
       "      <td>1.0</td>\n",
       "      <td>Urban</td>\n",
       "      <td>1</td>\n",
       "    </tr>\n",
       "  </tbody>\n",
       "</table>\n",
       "</div>"
      ],
      "text/plain": [
       "    Loan_ID  Gender  Married Dependents  Education  Self_Employed  \\\n",
       "0  LP001002       1        1          0          1              1   \n",
       "1  LP001003       1        0          1          1              1   \n",
       "2  LP001005       1        0          0          1              0   \n",
       "3  LP001006       1        0          0          0              1   \n",
       "4  LP001008       1        1          0          1              1   \n",
       "\n",
       "   ApplicantIncome  CoapplicantIncome  LoanAmount  Loan_Amount_Term  \\\n",
       "0             5849                0.0       128.0             360.0   \n",
       "1             4583             1508.0       128.0             360.0   \n",
       "2             3000                0.0        66.0             360.0   \n",
       "3             2583             2358.0       120.0             360.0   \n",
       "4             6000                0.0       141.0             360.0   \n",
       "\n",
       "   Credit_History Property_Area  Loan_Status  \n",
       "0             1.0         Urban            1  \n",
       "1             1.0         Rural            0  \n",
       "2             1.0         Urban            1  \n",
       "3             1.0         Urban            1  \n",
       "4             1.0         Urban            1  "
      ]
     },
     "execution_count": 20,
     "metadata": {},
     "output_type": "execute_result"
    }
   ],
   "source": [
    "train_df1.head()"
   ]
  },
  {
   "cell_type": "code",
   "execution_count": 55,
   "id": "foster-packing",
   "metadata": {},
   "outputs": [],
   "source": [
    "from sklearn.model_selection import train_test_split, GridSearchCV, StratifiedKFold\n",
    "from sklearn.preprocessing import PowerTransformer, Normalizer, StandardScaler\n",
    "from sklearn.linear_model import LogisticRegression\n",
    "from sklearn.metrics import roc_curve, auc, make_scorer, classification_report, plot_confusion_matrix"
   ]
  },
  {
   "cell_type": "code",
   "execution_count": 22,
   "id": "wrong-wireless",
   "metadata": {},
   "outputs": [],
   "source": [
    "# train_test_split\n",
    "\n",
    "X = train_df1.drop(columns=[\"Loan_ID\", \"Loan_Status\"])\n",
    "y = train_df1[\"Loan_Status\"]"
   ]
  },
  {
   "cell_type": "code",
   "execution_count": 23,
   "id": "settled-basis",
   "metadata": {},
   "outputs": [],
   "source": [
    "# one hot encoding for X\n",
    "\n",
    "X_enc = pd.get_dummies(X)"
   ]
  },
  {
   "cell_type": "code",
   "execution_count": 24,
   "id": "diverse-lebanon",
   "metadata": {},
   "outputs": [],
   "source": [
    "X_train, X_valid, y_train, y_valid = train_test_split(X_enc, y, test_size=0.20, random_state=42)"
   ]
  },
  {
   "cell_type": "code",
   "execution_count": 57,
   "id": "grand-baghdad",
   "metadata": {},
   "outputs": [
    {
     "name": "stdout",
     "output_type": "stream",
     "text": [
      "<class 'pandas.core.frame.DataFrame'>\n",
      "Int64Index: 491 entries, 83 to 102\n",
      "Data columns (total 16 columns):\n",
      " #   Column                   Non-Null Count  Dtype  \n",
      "---  ------                   --------------  -----  \n",
      " 0   Gender                   491 non-null    int64  \n",
      " 1   Married                  491 non-null    int64  \n",
      " 2   Education                491 non-null    int64  \n",
      " 3   Self_Employed            491 non-null    int64  \n",
      " 4   ApplicantIncome          491 non-null    float64\n",
      " 5   CoapplicantIncome        491 non-null    float64\n",
      " 6   LoanAmount               491 non-null    float64\n",
      " 7   Loan_Amount_Term         491 non-null    float64\n",
      " 8   Credit_History           491 non-null    float64\n",
      " 9   Dependents_0             491 non-null    uint8  \n",
      " 10  Dependents_1             491 non-null    uint8  \n",
      " 11  Dependents_2             491 non-null    uint8  \n",
      " 12  Dependents_3+            491 non-null    uint8  \n",
      " 13  Property_Area_Rural      491 non-null    uint8  \n",
      " 14  Property_Area_Semiurban  491 non-null    uint8  \n",
      " 15  Property_Area_Urban      491 non-null    uint8  \n",
      "dtypes: float64(5), int64(4), uint8(7)\n",
      "memory usage: 41.7 KB\n"
     ]
    }
   ],
   "source": [
    "X_train.info()"
   ]
  },
  {
   "cell_type": "code",
   "execution_count": 25,
   "id": "facial-protein",
   "metadata": {},
   "outputs": [],
   "source": [
    "power = PowerTransformer(method='yeo-johnson', standardize=True)"
   ]
  },
  {
   "cell_type": "code",
   "execution_count": 26,
   "id": "complimentary-white",
   "metadata": {},
   "outputs": [
    {
     "name": "stderr",
     "output_type": "stream",
     "text": [
      "<ipython-input-26-423727091a11>:4: SettingWithCopyWarning: \n",
      "A value is trying to be set on a copy of a slice from a DataFrame.\n",
      "Try using .loc[row_indexer,col_indexer] = value instead\n",
      "\n",
      "See the caveats in the documentation: https://pandas.pydata.org/pandas-docs/stable/user_guide/indexing.html#returning-a-view-versus-a-copy\n",
      "  X_train[col] = power.fit_transform(data.reshape(-1,1))\n",
      "<ipython-input-26-423727091a11>:7: SettingWithCopyWarning: \n",
      "A value is trying to be set on a copy of a slice from a DataFrame.\n",
      "Try using .loc[row_indexer,col_indexer] = value instead\n",
      "\n",
      "See the caveats in the documentation: https://pandas.pydata.org/pandas-docs/stable/user_guide/indexing.html#returning-a-view-versus-a-copy\n",
      "  X_valid[col] = power.transform(data.reshape(-1,1))\n",
      "<ipython-input-26-423727091a11>:4: SettingWithCopyWarning: \n",
      "A value is trying to be set on a copy of a slice from a DataFrame.\n",
      "Try using .loc[row_indexer,col_indexer] = value instead\n",
      "\n",
      "See the caveats in the documentation: https://pandas.pydata.org/pandas-docs/stable/user_guide/indexing.html#returning-a-view-versus-a-copy\n",
      "  X_train[col] = power.fit_transform(data.reshape(-1,1))\n",
      "<ipython-input-26-423727091a11>:7: SettingWithCopyWarning: \n",
      "A value is trying to be set on a copy of a slice from a DataFrame.\n",
      "Try using .loc[row_indexer,col_indexer] = value instead\n",
      "\n",
      "See the caveats in the documentation: https://pandas.pydata.org/pandas-docs/stable/user_guide/indexing.html#returning-a-view-versus-a-copy\n",
      "  X_valid[col] = power.transform(data.reshape(-1,1))\n",
      "<ipython-input-26-423727091a11>:4: SettingWithCopyWarning: \n",
      "A value is trying to be set on a copy of a slice from a DataFrame.\n",
      "Try using .loc[row_indexer,col_indexer] = value instead\n",
      "\n",
      "See the caveats in the documentation: https://pandas.pydata.org/pandas-docs/stable/user_guide/indexing.html#returning-a-view-versus-a-copy\n",
      "  X_train[col] = power.fit_transform(data.reshape(-1,1))\n",
      "<ipython-input-26-423727091a11>:7: SettingWithCopyWarning: \n",
      "A value is trying to be set on a copy of a slice from a DataFrame.\n",
      "Try using .loc[row_indexer,col_indexer] = value instead\n",
      "\n",
      "See the caveats in the documentation: https://pandas.pydata.org/pandas-docs/stable/user_guide/indexing.html#returning-a-view-versus-a-copy\n",
      "  X_valid[col] = power.transform(data.reshape(-1,1))\n"
     ]
    }
   ],
   "source": [
    "for col in [\"ApplicantIncome\", \"CoapplicantIncome\", \"LoanAmount\"]:\n",
    "    \n",
    "    data = X_train[\"ApplicantIncome\"].to_numpy()\n",
    "    X_train[col] = power.fit_transform(data.reshape(-1,1))\n",
    "    \n",
    "    data = X_valid[\"ApplicantIncome\"].to_numpy()\n",
    "    X_valid[col] = power.transform(data.reshape(-1,1))"
   ]
  },
  {
   "cell_type": "code",
   "execution_count": 58,
   "id": "external-cooperative",
   "metadata": {},
   "outputs": [
    {
     "name": "stderr",
     "output_type": "stream",
     "text": [
      "<ipython-input-58-320e53704b57>:6: SettingWithCopyWarning: \n",
      "A value is trying to be set on a copy of a slice from a DataFrame.\n",
      "Try using .loc[row_indexer,col_indexer] = value instead\n",
      "\n",
      "See the caveats in the documentation: https://pandas.pydata.org/pandas-docs/stable/user_guide/indexing.html#returning-a-view-versus-a-copy\n",
      "  X_train[\"Loan_Amount_Term\"] = X_train[\"Loan_Amount_Term\"].apply(lambda x:(x-min_x)/(max_x-min_x))\n",
      "<ipython-input-58-320e53704b57>:7: SettingWithCopyWarning: \n",
      "A value is trying to be set on a copy of a slice from a DataFrame.\n",
      "Try using .loc[row_indexer,col_indexer] = value instead\n",
      "\n",
      "See the caveats in the documentation: https://pandas.pydata.org/pandas-docs/stable/user_guide/indexing.html#returning-a-view-versus-a-copy\n",
      "  X_valid[\"Loan_Amount_Term\"] = X_valid[\"Loan_Amount_Term\"].apply(lambda x:(x-min_x)/(max_x-min_x))\n"
     ]
    }
   ],
   "source": [
    "# normalize data\n",
    "min_x = min(X_train[\"Loan_Amount_Term\"])\n",
    "max_x = max(X_train[\"Loan_Amount_Term\"])\n",
    "\n",
    "\n",
    "X_train[\"Loan_Amount_Term\"] = X_train[\"Loan_Amount_Term\"].apply(lambda x:(x-min_x)/(max_x-min_x))\n",
    "X_valid[\"Loan_Amount_Term\"] = X_valid[\"Loan_Amount_Term\"].apply(lambda x:(x-min_x)/(max_x-min_x))"
   ]
  },
  {
   "cell_type": "markdown",
   "id": "unexpected-department",
   "metadata": {},
   "source": [
    "################################################################################################################"
   ]
  },
  {
   "cell_type": "code",
   "execution_count": 28,
   "id": "sustainable-kinase",
   "metadata": {},
   "outputs": [],
   "source": [
    "# logistic rgression\n",
    "\n",
    "logreg = LogisticRegression()\n",
    "solvers = ['newton-cg', 'lbfgs', 'liblinear']\n",
    "penalty = ['l2']\n",
    "c_values = [100, 10, 1.0, 0.1, 0.01]\n",
    "\n",
    "grid = dict(solver=solvers,C=c_values)\n",
    "\n",
    "\n"
   ]
  },
  {
   "cell_type": "code",
   "execution_count": 29,
   "id": "expired-tissue",
   "metadata": {},
   "outputs": [],
   "source": [
    "cv = StratifiedKFold(n_splits=5)\n",
    "grid_search = GridSearchCV(estimator=logreg, param_grid=grid, n_jobs=-1, cv=cv, scoring='accuracy')\n",
    "grid_search_log_reg = grid_search.fit(X_train, y_train)"
   ]
  },
  {
   "cell_type": "code",
   "execution_count": 30,
   "id": "critical-header",
   "metadata": {},
   "outputs": [],
   "source": [
    "best_log_reg = grid_search_log_reg.best_estimator_"
   ]
  },
  {
   "cell_type": "code",
   "execution_count": 31,
   "id": "loving-ridge",
   "metadata": {},
   "outputs": [],
   "source": [
    "best_log_reg.fit(X_train, y_train)\n",
    "y_pred = best_log_reg.predict(X_valid)"
   ]
  },
  {
   "cell_type": "code",
   "execution_count": 32,
   "id": "creative-elephant",
   "metadata": {},
   "outputs": [
    {
     "name": "stdout",
     "output_type": "stream",
     "text": [
      "              precision    recall  f1-score   support\n",
      "\n",
      "           0       0.95      0.42      0.58        43\n",
      "           1       0.76      0.99      0.86        80\n",
      "\n",
      "    accuracy                           0.79       123\n",
      "   macro avg       0.85      0.70      0.72       123\n",
      "weighted avg       0.83      0.79      0.76       123\n",
      "\n"
     ]
    }
   ],
   "source": [
    "print(classification_report(y_valid, y_pred))"
   ]
  },
  {
   "cell_type": "code",
   "execution_count": 33,
   "id": "champion-financing",
   "metadata": {},
   "outputs": [
    {
     "name": "stdout",
     "output_type": "stream",
     "text": [
      "<sklearn.metrics._plot.confusion_matrix.ConfusionMatrixDisplay object at 0x0000021185051580>\n"
     ]
    },
    {
     "data": {
      "image/png": "[encoded data removed]",
      "text/plain": [
       "<Figure size 432x288 with 2 Axes>"
      ]
     },
     "metadata": {
      "needs_background": "light"
     },
     "output_type": "display_data"
    }
   ],
   "source": [
    "print(plot_confusion_matrix(best_log_reg, X_valid, y_valid))"
   ]
  },
  {
   "cell_type": "markdown",
   "id": "surface-kinase",
   "metadata": {},
   "source": [
    "################################################################################################################"
   ]
  },
  {
   "cell_type": "code",
   "execution_count": 34,
   "id": "joined-supervisor",
   "metadata": {},
   "outputs": [],
   "source": [
    "from sklearn.naive_bayes import GaussianNB"
   ]
  },
  {
   "cell_type": "code",
   "execution_count": 35,
   "id": "structured-quality",
   "metadata": {},
   "outputs": [],
   "source": [
    "param_grid_nb = {\n",
    "    'var_smoothing': np.logspace(0,-9, num=100)\n",
    "}"
   ]
  },
  {
   "cell_type": "code",
   "execution_count": 36,
   "id": "broken-theology",
   "metadata": {},
   "outputs": [
    {
     "name": "stdout",
     "output_type": "stream",
     "text": [
      "Fitting 5 folds for each of 100 candidates, totalling 500 fits\n"
     ]
    }
   ],
   "source": [
    "nb_grid = GridSearchCV(estimator=GaussianNB(), param_grid=param_grid_nb, verbose=1, cv=cv, n_jobs=-1, scoring='accuracy')\n",
    "grid_search_nb = nb_grid.fit(X_train, y_train)"
   ]
  },
  {
   "cell_type": "code",
   "execution_count": 37,
   "id": "greatest-quebec",
   "metadata": {},
   "outputs": [],
   "source": [
    "best_nb = grid_search_nb.best_estimator_\n",
    "\n",
    "best_nb.fit(X_train, y_train)\n",
    "y_pred = best_nb.predict(X_valid)"
   ]
  },
  {
   "cell_type": "code",
   "execution_count": 38,
   "id": "sexual-guard",
   "metadata": {},
   "outputs": [
    {
     "name": "stdout",
     "output_type": "stream",
     "text": [
      "              precision    recall  f1-score   support\n",
      "\n",
      "           0       0.86      0.44      0.58        43\n",
      "           1       0.76      0.96      0.85        80\n",
      "\n",
      "    accuracy                           0.78       123\n",
      "   macro avg       0.81      0.70      0.72       123\n",
      "weighted avg       0.80      0.78      0.76       123\n",
      "\n",
      "<sklearn.metrics._plot.confusion_matrix.ConfusionMatrixDisplay object at 0x0000021186E4A2E0>\n"
     ]
    },
    {
     "data": {
      "image/png": "[encoded data removed]",
      "text/plain": [
       "<Figure size 432x288 with 2 Axes>"
      ]
     },
     "metadata": {
      "needs_background": "light"
     },
     "output_type": "display_data"
    }
   ],
   "source": [
    "print(classification_report(y_valid, y_pred))\n",
    "print(plot_confusion_matrix(best_nb, X_valid, y_valid))"
   ]
  },
  {
   "cell_type": "markdown",
   "id": "musical-therapist",
   "metadata": {},
   "source": [
    "#####################################################################################################################"
   ]
  },
  {
   "cell_type": "code",
   "execution_count": 39,
   "id": "christian-lightweight",
   "metadata": {},
   "outputs": [],
   "source": [
    "from sklearn import svm"
   ]
  },
  {
   "cell_type": "code",
   "execution_count": 40,
   "id": "instructional-nylon",
   "metadata": {},
   "outputs": [],
   "source": [
    "svc = svm.SVC()"
   ]
  },
  {
   "cell_type": "code",
   "execution_count": 41,
   "id": "mexican-riverside",
   "metadata": {},
   "outputs": [],
   "source": [
    "gammas = [0.1, 1, 10, 100]\n",
    "cs = [0.1, 1, 10, 100, 1000]\n",
    "kernel=['rbf', \"linear\"]\n",
    "\n",
    "param_grid_svm = {\"gamma\":gammas, \"C\":cs, \"kernel\": kernel}"
   ]
  },
  {
   "cell_type": "code",
   "execution_count": 42,
   "id": "demonstrated-rough",
   "metadata": {},
   "outputs": [
    {
     "name": "stdout",
     "output_type": "stream",
     "text": [
      "Fitting 5 folds for each of 40 candidates, totalling 200 fits\n"
     ]
    }
   ],
   "source": [
    "svc_grid = GridSearchCV(estimator=svc, param_grid=param_grid_svm, verbose=1, cv=StratifiedKFold(n_splits=5), n_jobs=-1, scoring='accuracy')\n",
    "grid_search_svc = svc_grid.fit(X_train, y_train)"
   ]
  },
  {
   "cell_type": "code",
   "execution_count": 43,
   "id": "complete-duplicate",
   "metadata": {},
   "outputs": [],
   "source": [
    "best_svc = grid_search_svc.best_estimator_\n",
    "\n",
    "best_svc.fit(X_train, y_train)\n",
    "y_pred = best_svc.predict(X_valid)"
   ]
  },
  {
   "cell_type": "code",
   "execution_count": 44,
   "id": "generous-consensus",
   "metadata": {},
   "outputs": [
    {
     "name": "stdout",
     "output_type": "stream",
     "text": [
      "              precision    recall  f1-score   support\n",
      "\n",
      "           0       0.95      0.42      0.58        43\n",
      "           1       0.76      0.99      0.86        80\n",
      "\n",
      "    accuracy                           0.79       123\n",
      "   macro avg       0.85      0.70      0.72       123\n",
      "weighted avg       0.83      0.79      0.76       123\n",
      "\n",
      "<sklearn.metrics._plot.confusion_matrix.ConfusionMatrixDisplay object at 0x000002118771E6D0>\n"
     ]
    },
    {
     "data": {
      "image/png": "[encoded data removed]",
      "text/plain": [
       "<Figure size 432x288 with 2 Axes>"
      ]
     },
     "metadata": {
      "needs_background": "light"
     },
     "output_type": "display_data"
    }
   ],
   "source": [
    "print(classification_report(y_valid, y_pred))\n",
    "print(plot_confusion_matrix(best_svc, X_valid, y_valid))"
   ]
  },
  {
   "cell_type": "code",
   "execution_count": 45,
   "id": "stretch-opportunity",
   "metadata": {},
   "outputs": [
    {
     "data": {
      "text/plain": [
       "SVC(C=0.1, gamma=0.1, kernel='linear')"
      ]
     },
     "execution_count": 45,
     "metadata": {},
     "output_type": "execute_result"
    }
   ],
   "source": [
    "best_svc"
   ]
  },
  {
   "cell_type": "code",
   "execution_count": 46,
   "id": "identified-cooling",
   "metadata": {},
   "outputs": [],
   "source": [
    "# predictions\n",
    "\n",
    "X_test = test_df1.drop(columns=[\"Loan_ID\"])"
   ]
  },
  {
   "cell_type": "code",
   "execution_count": 47,
   "id": "flying-disability",
   "metadata": {},
   "outputs": [],
   "source": [
    "X_test = pd.get_dummies(X_test)"
   ]
  },
  {
   "cell_type": "code",
   "execution_count": 48,
   "id": "weird-glossary",
   "metadata": {},
   "outputs": [],
   "source": [
    "for col in [\"ApplicantIncome\", \"CoapplicantIncome\", \"LoanAmount\"]:\n",
    "\n",
    "    data = X_test[\"ApplicantIncome\"].to_numpy()\n",
    "    X_test[col] = power.transform(data.reshape(-1,1))\n",
    "    \n",
    "X_test[\"Loan_Amount_Term\"] = X_test[\"Loan_Amount_Term\"].apply(lambda x:(x-min_x)/(max_x-min_x))"
   ]
  },
  {
   "cell_type": "code",
   "execution_count": 49,
   "id": "united-paintball",
   "metadata": {},
   "outputs": [],
   "source": [
    "y_test_pred = best_svc.predict(X_test)"
   ]
  },
  {
   "cell_type": "code",
   "execution_count": 50,
   "id": "blond-flour",
   "metadata": {},
   "outputs": [],
   "source": [
    "y_test_pred_series = pd.Series(y_test_pred)\n",
    "\n",
    "id_pred_dict = {\"Loan_ID\":test_df1.Loan_ID, \"Loan_Status\": y_test_pred_series}"
   ]
  },
  {
   "cell_type": "code",
   "execution_count": 91,
   "id": "competent-defensive",
   "metadata": {},
   "outputs": [],
   "source": [
    "output_df = pd.DataFrame(id_pred_dict)\n",
    "output_df.Loan_Status = output_df.Loan_Status.apply(lambda x: 'Y' if x == 1 else 'N')"
   ]
  },
  {
   "cell_type": "code",
   "execution_count": 92,
   "id": "cheap-profession",
   "metadata": {},
   "outputs": [],
   "source": [
    "output_df.to_csv(\"E:\\conda_workdir\\hacks\\loan prediction\\loan_prediction.csv\")"
   ]
  },
  {
   "cell_type": "markdown",
   "id": "turned-carnival",
   "metadata": {},
   "source": [
    "#####################################################################################################################"
   ]
  },
  {
   "cell_type": "code",
   "execution_count": 103,
   "id": "designing-birmingham",
   "metadata": {},
   "outputs": [],
   "source": [
    "from sklearn.neighbors import KNeighborsClassifier, KNeighborsTransformer\n",
    "from sklearn.pipeline import Pipeline\n",
    "from tempfile import TemporaryDirectory\n",
    "import matplotlib.pyplot as plt"
   ]
  },
  {
   "cell_type": "code",
   "execution_count": 104,
   "id": "divine-faith",
   "metadata": {},
   "outputs": [],
   "source": [
    "n_neighbors_list = [5, 7, 9, 11, 13, 15, 17]"
   ]
  },
  {
   "cell_type": "code",
   "execution_count": 105,
   "id": "foster-upgrade",
   "metadata": {},
   "outputs": [],
   "source": [
    "graph_model = KNeighborsTransformer(n_neighbors=max(n_neighbors_list),\n",
    "                                    mode='distance')\n",
    "classifier_model = KNeighborsClassifier(metric='precomputed')"
   ]
  },
  {
   "cell_type": "code",
   "execution_count": 106,
   "id": "choice-congress",
   "metadata": {},
   "outputs": [],
   "source": [
    "with TemporaryDirectory(prefix=\"sklearn_graph_cache_\") as tmpdir:\n",
    "    full_model = Pipeline(\n",
    "        steps=[('graph', graph_model), ('classifier', classifier_model)],\n",
    "        memory=tmpdir)\n",
    "\n",
    "    param_grid = {'classifier__n_neighbors': n_neighbors_list}\n",
    "    grid_model = GridSearchCV(full_model, param_grid)\n",
    "    grid_model.fit(X_train, y_train)"
   ]
  },
  {
   "cell_type": "code",
   "execution_count": 107,
   "id": "future-virtue",
   "metadata": {},
   "outputs": [
    {
     "data": {
      "image/png": "[encoded data removed]",
      "text/plain": [
       "<Figure size 576x288 with 2 Axes>"
      ]
     },
     "metadata": {
      "needs_background": "light"
     },
     "output_type": "display_data"
    }
   ],
   "source": [
    "# Plot the results of the grid search.\n",
    "fig, axes = plt.subplots(1, 2, figsize=(8, 4))\n",
    "axes[0].errorbar(x=n_neighbors_list,\n",
    "                 y=grid_model.cv_results_['mean_test_score'],\n",
    "                 yerr=grid_model.cv_results_['std_test_score'])\n",
    "axes[0].set(xlabel='n_neighbors', title='Classification accuracy')\n",
    "axes[1].errorbar(x=n_neighbors_list, y=grid_model.cv_results_['mean_fit_time'],\n",
    "                 yerr=grid_model.cv_results_['std_fit_time'], color='r')\n",
    "axes[1].set(xlabel='n_neighbors', title='Fit time (with caching)')\n",
    "fig.tight_layout()\n",
    "plt.show()"
   ]
  },
  {
   "cell_type": "code",
   "execution_count": 108,
   "id": "sacred-charles",
   "metadata": {},
   "outputs": [],
   "source": [
    "best_knn = grid_model.best_estimator_\n",
    "y_pred = best_knn.predict(X_valid)"
   ]
  },
  {
   "cell_type": "code",
   "execution_count": 109,
   "id": "handy-weight",
   "metadata": {},
   "outputs": [
    {
     "name": "stdout",
     "output_type": "stream",
     "text": [
      "              precision    recall  f1-score   support\n",
      "\n",
      "           0       1.00      0.23      0.38        43\n",
      "           1       0.71      1.00      0.83        80\n",
      "\n",
      "    accuracy                           0.73       123\n",
      "   macro avg       0.85      0.62      0.60       123\n",
      "weighted avg       0.81      0.73      0.67       123\n",
      "\n",
      "<sklearn.metrics._plot.confusion_matrix.ConfusionMatrixDisplay object at 0x000002118797C550>\n"
     ]
    },
    {
     "data": {
      "image/png": "[encoded data removed]",
      "text/plain": [
       "<Figure size 432x288 with 2 Axes>"
      ]
     },
     "metadata": {
      "needs_background": "light"
     },
     "output_type": "display_data"
    }
   ],
   "source": [
    "print(classification_report(y_valid, y_pred))\n",
    "print(plot_confusion_matrix(best_knn, X_valid, y_valid))"
   ]
  },
  {
   "cell_type": "markdown",
   "id": "endangered-psychiatry",
   "metadata": {},
   "source": [
    "#######################################################################################################################"
   ]
  },
  {
   "cell_type": "code",
   "execution_count": 88,
   "id": "undefined-orange",
   "metadata": {},
   "outputs": [],
   "source": [
    "from sklearn.ensemble import RandomForestClassifier\n"
   ]
  },
  {
   "cell_type": "code",
   "execution_count": 137,
   "id": "experimental-award",
   "metadata": {},
   "outputs": [],
   "source": [
    "rfc=RandomForestClassifier(random_state=42, class_weight={1:1, 0:10})"
   ]
  },
  {
   "cell_type": "code",
   "execution_count": 138,
   "id": "ambient-gospel",
   "metadata": {},
   "outputs": [
    {
     "data": {
      "text/plain": [
       "GridSearchCV(cv=StratifiedKFold(n_splits=5, random_state=None, shuffle=False),\n",
       "             estimator=RandomForestClassifier(class_weight={0: 10, 1: 1},\n",
       "                                              random_state=42),\n",
       "             param_grid={'max_depth': [4, 6, 8, 10],\n",
       "                         'max_features': ['auto', 'sqrt', 'log2'],\n",
       "                         'n_estimators': [50, 75, 100]})"
      ]
     },
     "execution_count": 138,
     "metadata": {},
     "output_type": "execute_result"
    }
   ],
   "source": [
    "param_grid = { \n",
    "    'n_estimators': [50, 75, 100],\n",
    "    'max_features': ['auto', 'sqrt', 'log2'],\n",
    "    'max_depth' : [4,6,8,10]}\n",
    "\n",
    "\n",
    "\n",
    "CV_rfc = GridSearchCV(estimator=rfc, param_grid=param_grid, cv= cv)\n",
    "CV_rfc.fit(X_train, y_train)"
   ]
  },
  {
   "cell_type": "code",
   "execution_count": 139,
   "id": "dated-asset",
   "metadata": {},
   "outputs": [],
   "source": [
    "best_rfc = CV_rfc.best_estimator_\n",
    "\n",
    "y_pred = best_rfc.predict(X_valid)"
   ]
  },
  {
   "cell_type": "code",
   "execution_count": 142,
   "id": "crazy-contents",
   "metadata": {},
   "outputs": [
    {
     "data": {
      "text/plain": [
       "RandomForestClassifier(class_weight={0: 10, 1: 1}, max_depth=10,\n",
       "                       n_estimators=75, random_state=42)"
      ]
     },
     "execution_count": 142,
     "metadata": {},
     "output_type": "execute_result"
    }
   ],
   "source": [
    "best_rfc"
   ]
  },
  {
   "cell_type": "code",
   "execution_count": 140,
   "id": "optimum-period",
   "metadata": {},
   "outputs": [
    {
     "name": "stdout",
     "output_type": "stream",
     "text": [
      "              precision    recall  f1-score   support\n",
      "\n",
      "           0       0.67      0.60      0.63        43\n",
      "           1       0.80      0.84      0.82        80\n",
      "\n",
      "    accuracy                           0.76       123\n",
      "   macro avg       0.73      0.72      0.73       123\n",
      "weighted avg       0.75      0.76      0.75       123\n",
      "\n",
      "<sklearn.metrics._plot.confusion_matrix.ConfusionMatrixDisplay object at 0x00000211875FCE50>\n"
     ]
    },
    {
     "data": {
      "image/png": "[encoded data removed]",
      "text/plain": [
       "<Figure size 432x288 with 2 Axes>"
      ]
     },
     "metadata": {
      "needs_background": "light"
     },
     "output_type": "display_data"
    }
   ],
   "source": [
    "print(classification_report(y_valid, y_pred))\n",
    "print(plot_confusion_matrix(best_rfc, X_valid, y_valid))"
   ]
  },
  {
   "cell_type": "code",
   "execution_count": 141,
   "id": "balanced-bunch",
   "metadata": {},
   "outputs": [],
   "source": [
    "# predictions\n",
    "\n",
    "y_test_pred = best_svc.predict(X_test)\n",
    "\n",
    "y_test_pred_series = pd.Series(y_test_pred)\n",
    "\n",
    "id_pred_dict = {\"Loan_ID\":test_df1.Loan_ID, \"Loan_Status\": y_test_pred_series}\n",
    "\n",
    "output_df = pd.DataFrame(id_pred_dict)\n",
    "output_df.Loan_Status = output_df.Loan_Status.apply(lambda x: 'Y' if x == 1 else 'N')\n",
    "\n",
    "output_df.to_csv(\"E:\\conda_workdir\\hacks\\loan prediction\\loan_prediction_rfc.csv\")"
   ]
  },
  {
   "cell_type": "code",
   "execution_count": null,
   "id": "opposite-logging",
   "metadata": {},
   "outputs": [],
   "source": []
  }
 ],
 "metadata": {
  "kernelspec": {
   "display_name": "Python 3",
   "language": "python",
   "name": "python3"
  },
  "language_info": {
   "codemirror_mode": {
    "name": "ipython",
    "version": 3
   },
   "file_extension": ".py",
   "mimetype": "text/x-python",
   "name": "python",
   "nbconvert_exporter": "python",
   "pygments_lexer": "ipython3",
   "version": "3.8.8"
  }
 },
 "nbformat": 4,
 "nbformat_minor": 5
}
