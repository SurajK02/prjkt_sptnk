{
 "cells": [
  {
   "cell_type": "markdown",
   "metadata": {},
   "source": [
    "##### Feature\n",
    "    Airline: arlines name\n",
    "    Date_of_Journey: date of journey\n",
    "    Source: starting point\n",
    "    Destination: destination point\n",
    "    Route: route from source to destination\n",
    "    Dep_Time: depature time at source\n",
    "    Arrival_Time: arrival time at destination\n",
    "    Duration: total duration of the flight\n",
    "    Total_Stops: no. of stops between source and destination\n",
    "    Additional_Info: additional information about the flight\n",
    "    Price: ticket price"
   ]
  },
  {
   "cell_type": "code",
   "execution_count": 1,
   "metadata": {},
   "outputs": [],
   "source": [
    "import pandas as pd \n",
    "import numpy as np \n",
    "import matplotlib.pyplot as plt\n",
    "import seaborn as sns\n",
    "import datetime\n",
    "from sklearn.preprocessing import OrdinalEncoder"
   ]
  },
  {
   "cell_type": "code",
   "execution_count": 2,
   "metadata": {},
   "outputs": [],
   "source": [
    "# this data is from a hackthon so we will work with only the training set and use sub sampling methods for test/train\n",
    "data_df = pd.read_excel(r'H:\\jupy_workdir\\Datasets\\Flight_Ticket_Participant_Datasets\\Data_Train.xlsx')"
   ]
  },
  {
   "cell_type": "code",
   "execution_count": 3,
   "metadata": {},
   "outputs": [],
   "source": [
    "flight_ticket_df = data_df.copy(deep=True)"
   ]
  },
  {
   "cell_type": "code",
   "execution_count": 4,
   "metadata": {},
   "outputs": [
    {
     "data": {
      "text/plain": [
       "(10683, 11)"
      ]
     },
     "execution_count": 4,
     "metadata": {},
     "output_type": "execute_result"
    }
   ],
   "source": [
    "flight_ticket_df.shape"
   ]
  },
  {
   "cell_type": "code",
   "execution_count": 5,
   "metadata": {},
   "outputs": [
    {
     "name": "stdout",
     "output_type": "stream",
     "text": [
      "<class 'pandas.core.frame.DataFrame'>\n",
      "RangeIndex: 10683 entries, 0 to 10682\n",
      "Data columns (total 11 columns):\n",
      " #   Column           Non-Null Count  Dtype \n",
      "---  ------           --------------  ----- \n",
      " 0   Airline          10683 non-null  object\n",
      " 1   Date_of_Journey  10683 non-null  object\n",
      " 2   Source           10683 non-null  object\n",
      " 3   Destination      10683 non-null  object\n",
      " 4   Route            10682 non-null  object\n",
      " 5   Dep_Time         10683 non-null  object\n",
      " 6   Arrival_Time     10683 non-null  object\n",
      " 7   Duration         10683 non-null  object\n",
      " 8   Total_Stops      10682 non-null  object\n",
      " 9   Additional_Info  10683 non-null  object\n",
      " 10  Price            10683 non-null  int64 \n",
      "dtypes: int64(1), object(10)\n",
      "memory usage: 918.2+ KB\n"
     ]
    }
   ],
   "source": [
    "flight_ticket_df.info()"
   ]
  },
  {
   "cell_type": "code",
   "execution_count": 6,
   "metadata": {},
   "outputs": [
    {
     "data": {
      "text/html": [
       "<div>\n",
       "<style scoped>\n",
       "    .dataframe tbody tr th:only-of-type {\n",
       "        vertical-align: middle;\n",
       "    }\n",
       "\n",
       "    .dataframe tbody tr th {\n",
       "        vertical-align: top;\n",
       "    }\n",
       "\n",
       "    .dataframe thead th {\n",
       "        text-align: right;\n",
       "    }\n",
       "</style>\n",
       "<table border=\"1\" class=\"dataframe\">\n",
       "  <thead>\n",
       "    <tr style=\"text-align: right;\">\n",
       "      <th></th>\n",
       "      <th>Airline</th>\n",
       "      <th>Date_of_Journey</th>\n",
       "      <th>Source</th>\n",
       "      <th>Destination</th>\n",
       "      <th>Route</th>\n",
       "      <th>Dep_Time</th>\n",
       "      <th>Arrival_Time</th>\n",
       "      <th>Duration</th>\n",
       "      <th>Total_Stops</th>\n",
       "      <th>Additional_Info</th>\n",
       "      <th>Price</th>\n",
       "    </tr>\n",
       "  </thead>\n",
       "  <tbody>\n",
       "    <tr>\n",
       "      <th>0</th>\n",
       "      <td>IndiGo</td>\n",
       "      <td>24/03/2019</td>\n",
       "      <td>Banglore</td>\n",
       "      <td>New Delhi</td>\n",
       "      <td>BLR → DEL</td>\n",
       "      <td>22:20</td>\n",
       "      <td>01:10 22 Mar</td>\n",
       "      <td>2h 50m</td>\n",
       "      <td>non-stop</td>\n",
       "      <td>No info</td>\n",
       "      <td>3897</td>\n",
       "    </tr>\n",
       "    <tr>\n",
       "      <th>1</th>\n",
       "      <td>Air India</td>\n",
       "      <td>1/05/2019</td>\n",
       "      <td>Kolkata</td>\n",
       "      <td>Banglore</td>\n",
       "      <td>CCU → IXR → BBI → BLR</td>\n",
       "      <td>05:50</td>\n",
       "      <td>13:15</td>\n",
       "      <td>7h 25m</td>\n",
       "      <td>2 stops</td>\n",
       "      <td>No info</td>\n",
       "      <td>7662</td>\n",
       "    </tr>\n",
       "    <tr>\n",
       "      <th>2</th>\n",
       "      <td>Jet Airways</td>\n",
       "      <td>9/06/2019</td>\n",
       "      <td>Delhi</td>\n",
       "      <td>Cochin</td>\n",
       "      <td>DEL → LKO → BOM → COK</td>\n",
       "      <td>09:25</td>\n",
       "      <td>04:25 10 Jun</td>\n",
       "      <td>19h</td>\n",
       "      <td>2 stops</td>\n",
       "      <td>No info</td>\n",
       "      <td>13882</td>\n",
       "    </tr>\n",
       "    <tr>\n",
       "      <th>3</th>\n",
       "      <td>IndiGo</td>\n",
       "      <td>12/05/2019</td>\n",
       "      <td>Kolkata</td>\n",
       "      <td>Banglore</td>\n",
       "      <td>CCU → NAG → BLR</td>\n",
       "      <td>18:05</td>\n",
       "      <td>23:30</td>\n",
       "      <td>5h 25m</td>\n",
       "      <td>1 stop</td>\n",
       "      <td>No info</td>\n",
       "      <td>6218</td>\n",
       "    </tr>\n",
       "    <tr>\n",
       "      <th>4</th>\n",
       "      <td>IndiGo</td>\n",
       "      <td>01/03/2019</td>\n",
       "      <td>Banglore</td>\n",
       "      <td>New Delhi</td>\n",
       "      <td>BLR → NAG → DEL</td>\n",
       "      <td>16:50</td>\n",
       "      <td>21:35</td>\n",
       "      <td>4h 45m</td>\n",
       "      <td>1 stop</td>\n",
       "      <td>No info</td>\n",
       "      <td>13302</td>\n",
       "    </tr>\n",
       "  </tbody>\n",
       "</table>\n",
       "</div>"
      ],
      "text/plain": [
       "       Airline Date_of_Journey    Source Destination                  Route  \\\n",
       "0       IndiGo      24/03/2019  Banglore   New Delhi              BLR → DEL   \n",
       "1    Air India       1/05/2019   Kolkata    Banglore  CCU → IXR → BBI → BLR   \n",
       "2  Jet Airways       9/06/2019     Delhi      Cochin  DEL → LKO → BOM → COK   \n",
       "3       IndiGo      12/05/2019   Kolkata    Banglore        CCU → NAG → BLR   \n",
       "4       IndiGo      01/03/2019  Banglore   New Delhi        BLR → NAG → DEL   \n",
       "\n",
       "  Dep_Time  Arrival_Time Duration Total_Stops Additional_Info  Price  \n",
       "0    22:20  01:10 22 Mar   2h 50m    non-stop         No info   3897  \n",
       "1    05:50         13:15   7h 25m     2 stops         No info   7662  \n",
       "2    09:25  04:25 10 Jun      19h     2 stops         No info  13882  \n",
       "3    18:05         23:30   5h 25m      1 stop         No info   6218  \n",
       "4    16:50         21:35   4h 45m      1 stop         No info  13302  "
      ]
     },
     "execution_count": 6,
     "metadata": {},
     "output_type": "execute_result"
    }
   ],
   "source": [
    "flight_ticket_df.head()"
   ]
  },
  {
   "cell_type": "markdown",
   "metadata": {},
   "source": [
    "##### EDA"
   ]
  },
  {
   "cell_type": "code",
   "execution_count": 7,
   "metadata": {},
   "outputs": [
    {
     "data": {
      "text/plain": [
       "(array([ 0,  1,  2,  3,  4,  5,  6,  7,  8,  9, 10, 11]),\n",
       " <a list of 12 Text major ticklabel objects>)"
      ]
     },
     "execution_count": 7,
     "metadata": {},
     "output_type": "execute_result"
    },
    {
     "data": {
      "image/png": "[encoded data removed]",
      "text/plain": [
       "<Figure size 360x360 with 1 Axes>"
      ]
     },
     "metadata": {
      "needs_background": "light"
     },
     "output_type": "display_data"
    }
   ],
   "source": [
    "sns.catplot(x='Airline', y='Price', data=data_df, kind='bar')\n",
    "plt.xticks(rotation=90)"
   ]
  },
  {
   "cell_type": "code",
   "execution_count": 8,
   "metadata": {},
   "outputs": [
    {
     "data": {
      "text/plain": [
       "(array([ 0,  1,  2,  3,  4,  5,  6,  7,  8,  9, 10]),\n",
       " <a list of 11 Text major ticklabel objects>)"
      ]
     },
     "execution_count": 8,
     "metadata": {},
     "output_type": "execute_result"
    },
    {
     "data": {
      "image/png": "[encoded data removed]",
      "text/plain": [
       "<Figure size 360x360 with 1 Axes>"
      ]
     },
     "metadata": {
      "needs_background": "light"
     },
     "output_type": "display_data"
    }
   ],
   "source": [
    "temp_df = data_df[data_df.Airline != 'Jet Airways Business']\n",
    "sns.catplot(x='Airline', y='Price', data=temp_df, kind='bar', ci='sd', color='steelblue', edgecolor='black')\n",
    "plt.xticks(rotation=90)"
   ]
  },
  {
   "cell_type": "markdown",
   "metadata": {},
   "source": [
    "    We can see that the big market players like Air India, Vistara, Jet Airways, Multiple Carriers all have high prices and the ones like Indigo, Spicejet, GoAir, Air Asia all have relateively lesser prices.\n",
    "    The price fluctations is represented by the line on each bar and we an see the volaility is high for all except Trujet which is a very small airlines company and doesnt operate many routes"
   ]
  },
  {
   "cell_type": "code",
   "execution_count": 9,
   "metadata": {},
   "outputs": [
    {
     "data": {
      "text/plain": [
       "(array([0, 1, 2, 3, 4, 5, 6, 7, 8, 9]),\n",
       " <a list of 10 Text major ticklabel objects>)"
      ]
     },
     "execution_count": 9,
     "metadata": {},
     "output_type": "execute_result"
    },
    {
     "data": {
      "image/png": "[encoded data removed]",
      "text/plain": [
       "<Figure size 360x360 with 1 Axes>"
      ]
     },
     "metadata": {
      "needs_background": "light"
     },
     "output_type": "display_data"
    }
   ],
   "source": [
    "sns.catplot(x='Additional_Info', y='Price', data=data_df, kind='bar', color='steelblue', edgecolor='black')\n",
    "plt.xticks(rotation=90)"
   ]
  },
  {
   "cell_type": "code",
   "execution_count": 10,
   "metadata": {},
   "outputs": [
    {
     "data": {
      "text/plain": [
       "<seaborn.axisgrid.FacetGrid at 0x1d332db8608>"
      ]
     },
     "execution_count": 10,
     "metadata": {},
     "output_type": "execute_result"
    },
    {
     "data": {
      "image/png": "[encoded data removed]",
      "text/plain": [
       "<Figure size 360x360 with 1 Axes>"
      ]
     },
     "metadata": {
      "needs_background": "light"
     },
     "output_type": "display_data"
    }
   ],
   "source": [
    "order = ['non-stop', '1 stop', '2 stops', '3 stops', '4 stops']\n",
    "sns.catplot(x='Total_Stops', y='Price', data=data_df, kind='bar', order=order, color='steelblue', edgecolor='black')\n"
   ]
  },
  {
   "cell_type": "markdown",
   "metadata": {},
   "source": [
    "        Apart from the most prominent one which is the Business Class the layover flights costs more and similar trend the prices are increasing as the no. of stops increase.\n",
    "        This could be because Possibly one of the legs its made up from is more expensive than the alternative, Also the fees and tax associated with airports (departure tax, passenger service fare) may be less when there are just two airports involved compared to flights with layover that have three or more airports involved. So, invariably, direct flights are cheaper\n",
    "        Apart from that the Red eye flights are also costly because theyre overnight flights from source to destination"
   ]
  },
  {
   "cell_type": "markdown",
   "metadata": {},
   "source": [
    "##### Imputing Null values"
   ]
  },
  {
   "cell_type": "code",
   "execution_count": 11,
   "metadata": {},
   "outputs": [
    {
     "data": {
      "text/html": [
       "<div>\n",
       "<style scoped>\n",
       "    .dataframe tbody tr th:only-of-type {\n",
       "        vertical-align: middle;\n",
       "    }\n",
       "\n",
       "    .dataframe tbody tr th {\n",
       "        vertical-align: top;\n",
       "    }\n",
       "\n",
       "    .dataframe thead th {\n",
       "        text-align: right;\n",
       "    }\n",
       "</style>\n",
       "<table border=\"1\" class=\"dataframe\">\n",
       "  <thead>\n",
       "    <tr style=\"text-align: right;\">\n",
       "      <th></th>\n",
       "      <th>Airline</th>\n",
       "      <th>Date_of_Journey</th>\n",
       "      <th>Source</th>\n",
       "      <th>Destination</th>\n",
       "      <th>Route</th>\n",
       "      <th>Dep_Time</th>\n",
       "      <th>Arrival_Time</th>\n",
       "      <th>Duration</th>\n",
       "      <th>Total_Stops</th>\n",
       "      <th>Additional_Info</th>\n",
       "      <th>Price</th>\n",
       "    </tr>\n",
       "  </thead>\n",
       "  <tbody>\n",
       "    <tr>\n",
       "      <th>9039</th>\n",
       "      <td>Air India</td>\n",
       "      <td>6/05/2019</td>\n",
       "      <td>Delhi</td>\n",
       "      <td>Cochin</td>\n",
       "      <td>NaN</td>\n",
       "      <td>09:45</td>\n",
       "      <td>09:25 07 May</td>\n",
       "      <td>23h 40m</td>\n",
       "      <td>NaN</td>\n",
       "      <td>No info</td>\n",
       "      <td>7480</td>\n",
       "    </tr>\n",
       "  </tbody>\n",
       "</table>\n",
       "</div>"
      ],
      "text/plain": [
       "        Airline Date_of_Journey Source Destination Route Dep_Time  \\\n",
       "9039  Air India       6/05/2019  Delhi      Cochin   NaN    09:45   \n",
       "\n",
       "      Arrival_Time Duration Total_Stops Additional_Info  Price  \n",
       "9039  09:25 07 May  23h 40m         NaN         No info   7480  "
      ]
     },
     "execution_count": 11,
     "metadata": {},
     "output_type": "execute_result"
    }
   ],
   "source": [
    "flight_ticket_df[flight_ticket_df['Total_Stops'].isnull()]"
   ]
  },
  {
   "cell_type": "code",
   "execution_count": 12,
   "metadata": {},
   "outputs": [
    {
     "data": {
      "text/html": [
       "<div>\n",
       "<style scoped>\n",
       "    .dataframe tbody tr th:only-of-type {\n",
       "        vertical-align: middle;\n",
       "    }\n",
       "\n",
       "    .dataframe tbody tr th {\n",
       "        vertical-align: top;\n",
       "    }\n",
       "\n",
       "    .dataframe thead th {\n",
       "        text-align: right;\n",
       "    }\n",
       "</style>\n",
       "<table border=\"1\" class=\"dataframe\">\n",
       "  <thead>\n",
       "    <tr style=\"text-align: right;\">\n",
       "      <th></th>\n",
       "      <th>Airline</th>\n",
       "      <th>Date_of_Journey</th>\n",
       "      <th>Source</th>\n",
       "      <th>Destination</th>\n",
       "      <th>Route</th>\n",
       "      <th>Dep_Time</th>\n",
       "      <th>Arrival_Time</th>\n",
       "      <th>Duration</th>\n",
       "      <th>Total_Stops</th>\n",
       "      <th>Additional_Info</th>\n",
       "      <th>Price</th>\n",
       "    </tr>\n",
       "  </thead>\n",
       "  <tbody>\n",
       "    <tr>\n",
       "      <th>191</th>\n",
       "      <td>Air India</td>\n",
       "      <td>27/03/2019</td>\n",
       "      <td>Delhi</td>\n",
       "      <td>Cochin</td>\n",
       "      <td>DEL → TRV → COK</td>\n",
       "      <td>05:15</td>\n",
       "      <td>06:50 28 Mar</td>\n",
       "      <td>25h 35m</td>\n",
       "      <td>1 stop</td>\n",
       "      <td>No info</td>\n",
       "      <td>7165</td>\n",
       "    </tr>\n",
       "    <tr>\n",
       "      <th>531</th>\n",
       "      <td>Air India</td>\n",
       "      <td>15/06/2019</td>\n",
       "      <td>Delhi</td>\n",
       "      <td>Cochin</td>\n",
       "      <td>DEL → BLR → COK</td>\n",
       "      <td>17:40</td>\n",
       "      <td>23:00</td>\n",
       "      <td>5h 20m</td>\n",
       "      <td>1 stop</td>\n",
       "      <td>No info</td>\n",
       "      <td>7384</td>\n",
       "    </tr>\n",
       "    <tr>\n",
       "      <th>970</th>\n",
       "      <td>Air India</td>\n",
       "      <td>21/03/2019</td>\n",
       "      <td>Delhi</td>\n",
       "      <td>Cochin</td>\n",
       "      <td>DEL → BOM → COK</td>\n",
       "      <td>10:00</td>\n",
       "      <td>19:15</td>\n",
       "      <td>9h 15m</td>\n",
       "      <td>1 stop</td>\n",
       "      <td>No info</td>\n",
       "      <td>7934</td>\n",
       "    </tr>\n",
       "    <tr>\n",
       "      <th>1073</th>\n",
       "      <td>Air India</td>\n",
       "      <td>1/06/2019</td>\n",
       "      <td>Delhi</td>\n",
       "      <td>Cochin</td>\n",
       "      <td>DEL → BLR → COK</td>\n",
       "      <td>17:40</td>\n",
       "      <td>23:00</td>\n",
       "      <td>5h 20m</td>\n",
       "      <td>1 stop</td>\n",
       "      <td>No info</td>\n",
       "      <td>7384</td>\n",
       "    </tr>\n",
       "    <tr>\n",
       "      <th>1085</th>\n",
       "      <td>Air India</td>\n",
       "      <td>21/04/2019</td>\n",
       "      <td>Delhi</td>\n",
       "      <td>Cochin</td>\n",
       "      <td>DEL → BLR → COK</td>\n",
       "      <td>20:30</td>\n",
       "      <td>23:00 22 Apr</td>\n",
       "      <td>26h 30m</td>\n",
       "      <td>1 stop</td>\n",
       "      <td>No info</td>\n",
       "      <td>7174</td>\n",
       "    </tr>\n",
       "    <tr>\n",
       "      <th>...</th>\n",
       "      <td>...</td>\n",
       "      <td>...</td>\n",
       "      <td>...</td>\n",
       "      <td>...</td>\n",
       "      <td>...</td>\n",
       "      <td>...</td>\n",
       "      <td>...</td>\n",
       "      <td>...</td>\n",
       "      <td>...</td>\n",
       "      <td>...</td>\n",
       "      <td>...</td>\n",
       "    </tr>\n",
       "    <tr>\n",
       "      <th>9702</th>\n",
       "      <td>Air India</td>\n",
       "      <td>9/05/2019</td>\n",
       "      <td>Delhi</td>\n",
       "      <td>Cochin</td>\n",
       "      <td>DEL → BLR → COK</td>\n",
       "      <td>17:40</td>\n",
       "      <td>23:00</td>\n",
       "      <td>5h 20m</td>\n",
       "      <td>1 stop</td>\n",
       "      <td>No info</td>\n",
       "      <td>7174</td>\n",
       "    </tr>\n",
       "    <tr>\n",
       "      <th>9719</th>\n",
       "      <td>Air India</td>\n",
       "      <td>21/03/2019</td>\n",
       "      <td>Delhi</td>\n",
       "      <td>Cochin</td>\n",
       "      <td>DEL → MAA → COK</td>\n",
       "      <td>06:05</td>\n",
       "      <td>09:25 22 Mar</td>\n",
       "      <td>27h 20m</td>\n",
       "      <td>1 stop</td>\n",
       "      <td>No info</td>\n",
       "      <td>7532</td>\n",
       "    </tr>\n",
       "    <tr>\n",
       "      <th>10122</th>\n",
       "      <td>Air India</td>\n",
       "      <td>6/06/2019</td>\n",
       "      <td>Delhi</td>\n",
       "      <td>Cochin</td>\n",
       "      <td>DEL → MAA → COK</td>\n",
       "      <td>06:05</td>\n",
       "      <td>09:25 07 Jun</td>\n",
       "      <td>27h 20m</td>\n",
       "      <td>1 stop</td>\n",
       "      <td>No info</td>\n",
       "      <td>7952</td>\n",
       "    </tr>\n",
       "    <tr>\n",
       "      <th>10371</th>\n",
       "      <td>Air India</td>\n",
       "      <td>18/05/2019</td>\n",
       "      <td>Delhi</td>\n",
       "      <td>Cochin</td>\n",
       "      <td>DEL → MAA → COK</td>\n",
       "      <td>06:05</td>\n",
       "      <td>09:25 19 May</td>\n",
       "      <td>27h 20m</td>\n",
       "      <td>1 stop</td>\n",
       "      <td>No info</td>\n",
       "      <td>7480</td>\n",
       "    </tr>\n",
       "    <tr>\n",
       "      <th>10478</th>\n",
       "      <td>Air India</td>\n",
       "      <td>21/03/2019</td>\n",
       "      <td>Delhi</td>\n",
       "      <td>Cochin</td>\n",
       "      <td>DEL → MAA → COK</td>\n",
       "      <td>09:45</td>\n",
       "      <td>09:25 22 Mar</td>\n",
       "      <td>23h 40m</td>\n",
       "      <td>1 stop</td>\n",
       "      <td>No info</td>\n",
       "      <td>7532</td>\n",
       "    </tr>\n",
       "  </tbody>\n",
       "</table>\n",
       "<p>81 rows × 11 columns</p>\n",
       "</div>"
      ],
      "text/plain": [
       "         Airline Date_of_Journey Source Destination            Route Dep_Time  \\\n",
       "191    Air India      27/03/2019  Delhi      Cochin  DEL → TRV → COK    05:15   \n",
       "531    Air India      15/06/2019  Delhi      Cochin  DEL → BLR → COK    17:40   \n",
       "970    Air India      21/03/2019  Delhi      Cochin  DEL → BOM → COK    10:00   \n",
       "1073   Air India       1/06/2019  Delhi      Cochin  DEL → BLR → COK    17:40   \n",
       "1085   Air India      21/04/2019  Delhi      Cochin  DEL → BLR → COK    20:30   \n",
       "...          ...             ...    ...         ...              ...      ...   \n",
       "9702   Air India       9/05/2019  Delhi      Cochin  DEL → BLR → COK    17:40   \n",
       "9719   Air India      21/03/2019  Delhi      Cochin  DEL → MAA → COK    06:05   \n",
       "10122  Air India       6/06/2019  Delhi      Cochin  DEL → MAA → COK    06:05   \n",
       "10371  Air India      18/05/2019  Delhi      Cochin  DEL → MAA → COK    06:05   \n",
       "10478  Air India      21/03/2019  Delhi      Cochin  DEL → MAA → COK    09:45   \n",
       "\n",
       "       Arrival_Time Duration Total_Stops Additional_Info  Price  \n",
       "191    06:50 28 Mar  25h 35m      1 stop         No info   7165  \n",
       "531           23:00   5h 20m      1 stop         No info   7384  \n",
       "970           19:15   9h 15m      1 stop         No info   7934  \n",
       "1073          23:00   5h 20m      1 stop         No info   7384  \n",
       "1085   23:00 22 Apr  26h 30m      1 stop         No info   7174  \n",
       "...             ...      ...         ...             ...    ...  \n",
       "9702          23:00   5h 20m      1 stop         No info   7174  \n",
       "9719   09:25 22 Mar  27h 20m      1 stop         No info   7532  \n",
       "10122  09:25 07 Jun  27h 20m      1 stop         No info   7952  \n",
       "10371  09:25 19 May  27h 20m      1 stop         No info   7480  \n",
       "10478  09:25 22 Mar  23h 40m      1 stop         No info   7532  \n",
       "\n",
       "[81 rows x 11 columns]"
      ]
     },
     "execution_count": 12,
     "metadata": {},
     "output_type": "execute_result"
    }
   ],
   "source": [
    "flight_ticket_df[(flight_ticket_df['Source']=='Delhi') & (flight_ticket_df['Destination']=='Cochin') & (flight_ticket_df['Price']<8000)& (flight_ticket_df['Price']>7000)& (flight_ticket_df['Airline']=='Air India')]"
   ]
  },
  {
   "cell_type": "code",
   "execution_count": 13,
   "metadata": {},
   "outputs": [],
   "source": [
    "# imputing the one nan row information with row information from the rowindex 10478 \n",
    "# because all the attributes are matching inclusive of the travel time and price could \n",
    "# have been inflated by the small amount bcause of other factors like if we look at the indain calendar that day happens to be a holiday\n",
    "temp_df = flight_ticket_df.iloc[10478:10479, :]\n",
    "flight_ticket_df.Route=flight_ticket_df.Route.fillna('DEL → MAA → COK')\n",
    "flight_ticket_df.loc[flight_ticket_df.Total_Stops.isnull(),'Total_Stops']='1 stop'"
   ]
  },
  {
   "cell_type": "markdown",
   "metadata": {},
   "source": [
    "##### Data wrangling"
   ]
  },
  {
   "cell_type": "markdown",
   "metadata": {},
   "source": [
    "    Although the following phase is a Data Wrangling phase some eda has been done in between to analyze and preprocess the data accordingly"
   ]
  },
  {
   "cell_type": "code",
   "execution_count": 14,
   "metadata": {},
   "outputs": [],
   "source": [
    "flight_ticket_df.Destination.replace(to_replace='New Delhi', value='Delhi', inplace=True)"
   ]
  },
  {
   "cell_type": "code",
   "execution_count": 15,
   "metadata": {},
   "outputs": [
    {
     "data": {
      "text/plain": [
       "Jet Airways                          3849\n",
       "IndiGo                               2053\n",
       "Air India                            1752\n",
       "Multiple carriers                    1196\n",
       "SpiceJet                              818\n",
       "Vistara                               479\n",
       "Air Asia                              319\n",
       "GoAir                                 194\n",
       "Multiple carriers Premium economy      13\n",
       "Jet Airways Business                    6\n",
       "Vistara Premium economy                 3\n",
       "Trujet                                  1\n",
       "Name: Airline, dtype: int64"
      ]
     },
     "execution_count": 15,
     "metadata": {},
     "output_type": "execute_result"
    }
   ],
   "source": [
    "flight_ticket_df.Airline.value_counts()"
   ]
  },
  {
   "cell_type": "code",
   "execution_count": 16,
   "metadata": {},
   "outputs": [],
   "source": [
    "# creating class variable\n",
    "\n",
    "def populate_class(param):\n",
    "    cls = ''\n",
    "    if 'premium' in param.lower():\n",
    "        cls = 'premium'\n",
    "    elif 'business' in param.lower():\n",
    "        cls = 'business'\n",
    "    else: cls = 'economy'\n",
    "    return cls\n",
    "\n",
    "flight_ticket_df['Class'] = flight_ticket_df['Airline'].apply(lambda x:populate_class(x))"
   ]
  },
  {
   "cell_type": "code",
   "execution_count": 17,
   "metadata": {},
   "outputs": [],
   "source": [
    "\n",
    "def populate_arrdat(param):\n",
    "    x = param[6:]\n",
    "    if x == \"\":\n",
    "        return np.NaN\n",
    "    else: return x\n",
    "flight_ticket_df['Arrival_Date'] = flight_ticket_df['Arrival_Time'].apply(lambda x:populate_arrdat(x))"
   ]
  },
  {
   "cell_type": "code",
   "execution_count": null,
   "metadata": {},
   "outputs": [],
   "source": []
  },
  {
   "cell_type": "code",
   "execution_count": 18,
   "metadata": {},
   "outputs": [],
   "source": [
    "# renaming airline names\n",
    "flight_ticket_df.Airline.replace(to_replace='Multiple carriers Premium economy', value='Multiple carriers',inplace=True)\n",
    "flight_ticket_df.Airline.replace(to_replace='Vistara Premium economy', value='Vistara',inplace=True)\n",
    "flight_ticket_df.Airline.replace(to_replace='Jet Airways Business', value='Jet Airways',inplace=True)\n"
   ]
  },
  {
   "cell_type": "code",
   "execution_count": 19,
   "metadata": {},
   "outputs": [],
   "source": [
    "# replace Total_stops with ordinal number\n",
    "d = {'non-stop': 0, '1 stop': 1, '2 stops': 2, '3 stops': 3, '4 stops': 4}\n",
    "flight_ticket_df[\"Total_Stops\"] = flight_ticket_df[\"Total_Stops\"].map(d)\n",
    "flight_ticket_df.Total_Stops=flight_ticket_df.Total_Stops.astype('category')\n"
   ]
  },
  {
   "cell_type": "code",
   "execution_count": 20,
   "metadata": {},
   "outputs": [],
   "source": [
    "flight_ticket_df.Additional_Info.replace(to_replace='No Info', value='No info', inplace=True)"
   ]
  },
  {
   "cell_type": "code",
   "execution_count": 21,
   "metadata": {},
   "outputs": [
    {
     "data": {
      "text/html": [
       "<div>\n",
       "<style scoped>\n",
       "    .dataframe tbody tr th:only-of-type {\n",
       "        vertical-align: middle;\n",
       "    }\n",
       "\n",
       "    .dataframe tbody tr th {\n",
       "        vertical-align: top;\n",
       "    }\n",
       "\n",
       "    .dataframe thead th {\n",
       "        text-align: right;\n",
       "    }\n",
       "</style>\n",
       "<table border=\"1\" class=\"dataframe\">\n",
       "  <thead>\n",
       "    <tr style=\"text-align: right;\">\n",
       "      <th></th>\n",
       "      <th>Airline</th>\n",
       "      <th>Date_of_Journey</th>\n",
       "      <th>Source</th>\n",
       "      <th>Destination</th>\n",
       "      <th>Route</th>\n",
       "      <th>Dep_Time</th>\n",
       "      <th>Arrival_Time</th>\n",
       "      <th>Duration</th>\n",
       "      <th>Total_Stops</th>\n",
       "      <th>Additional_Info</th>\n",
       "      <th>Price</th>\n",
       "      <th>Class</th>\n",
       "      <th>Arrival_Date</th>\n",
       "    </tr>\n",
       "  </thead>\n",
       "  <tbody>\n",
       "    <tr>\n",
       "      <th>0</th>\n",
       "      <td>IndiGo</td>\n",
       "      <td>24/03/2019</td>\n",
       "      <td>Banglore</td>\n",
       "      <td>Delhi</td>\n",
       "      <td>BLR → DEL</td>\n",
       "      <td>22:20</td>\n",
       "      <td>01:10 22 Mar</td>\n",
       "      <td>2h 50m</td>\n",
       "      <td>0</td>\n",
       "      <td>No info</td>\n",
       "      <td>3897</td>\n",
       "      <td>economy</td>\n",
       "      <td>22 Mar</td>\n",
       "    </tr>\n",
       "    <tr>\n",
       "      <th>1</th>\n",
       "      <td>Air India</td>\n",
       "      <td>1/05/2019</td>\n",
       "      <td>Kolkata</td>\n",
       "      <td>Banglore</td>\n",
       "      <td>CCU → IXR → BBI → BLR</td>\n",
       "      <td>05:50</td>\n",
       "      <td>13:15</td>\n",
       "      <td>7h 25m</td>\n",
       "      <td>2</td>\n",
       "      <td>No info</td>\n",
       "      <td>7662</td>\n",
       "      <td>economy</td>\n",
       "      <td>NaN</td>\n",
       "    </tr>\n",
       "    <tr>\n",
       "      <th>2</th>\n",
       "      <td>Jet Airways</td>\n",
       "      <td>9/06/2019</td>\n",
       "      <td>Delhi</td>\n",
       "      <td>Cochin</td>\n",
       "      <td>DEL → LKO → BOM → COK</td>\n",
       "      <td>09:25</td>\n",
       "      <td>04:25 10 Jun</td>\n",
       "      <td>19h</td>\n",
       "      <td>2</td>\n",
       "      <td>No info</td>\n",
       "      <td>13882</td>\n",
       "      <td>economy</td>\n",
       "      <td>10 Jun</td>\n",
       "    </tr>\n",
       "    <tr>\n",
       "      <th>3</th>\n",
       "      <td>IndiGo</td>\n",
       "      <td>12/05/2019</td>\n",
       "      <td>Kolkata</td>\n",
       "      <td>Banglore</td>\n",
       "      <td>CCU → NAG → BLR</td>\n",
       "      <td>18:05</td>\n",
       "      <td>23:30</td>\n",
       "      <td>5h 25m</td>\n",
       "      <td>1</td>\n",
       "      <td>No info</td>\n",
       "      <td>6218</td>\n",
       "      <td>economy</td>\n",
       "      <td>NaN</td>\n",
       "    </tr>\n",
       "    <tr>\n",
       "      <th>4</th>\n",
       "      <td>IndiGo</td>\n",
       "      <td>01/03/2019</td>\n",
       "      <td>Banglore</td>\n",
       "      <td>Delhi</td>\n",
       "      <td>BLR → NAG → DEL</td>\n",
       "      <td>16:50</td>\n",
       "      <td>21:35</td>\n",
       "      <td>4h 45m</td>\n",
       "      <td>1</td>\n",
       "      <td>No info</td>\n",
       "      <td>13302</td>\n",
       "      <td>economy</td>\n",
       "      <td>NaN</td>\n",
       "    </tr>\n",
       "  </tbody>\n",
       "</table>\n",
       "</div>"
      ],
      "text/plain": [
       "       Airline Date_of_Journey    Source Destination                  Route  \\\n",
       "0       IndiGo      24/03/2019  Banglore       Delhi              BLR → DEL   \n",
       "1    Air India       1/05/2019   Kolkata    Banglore  CCU → IXR → BBI → BLR   \n",
       "2  Jet Airways       9/06/2019     Delhi      Cochin  DEL → LKO → BOM → COK   \n",
       "3       IndiGo      12/05/2019   Kolkata    Banglore        CCU → NAG → BLR   \n",
       "4       IndiGo      01/03/2019  Banglore       Delhi        BLR → NAG → DEL   \n",
       "\n",
       "  Dep_Time  Arrival_Time Duration Total_Stops Additional_Info  Price    Class  \\\n",
       "0    22:20  01:10 22 Mar   2h 50m           0         No info   3897  economy   \n",
       "1    05:50         13:15   7h 25m           2         No info   7662  economy   \n",
       "2    09:25  04:25 10 Jun      19h           2         No info  13882  economy   \n",
       "3    18:05         23:30   5h 25m           1         No info   6218  economy   \n",
       "4    16:50         21:35   4h 45m           1         No info  13302  economy   \n",
       "\n",
       "  Arrival_Date  \n",
       "0       22 Mar  \n",
       "1          NaN  \n",
       "2       10 Jun  \n",
       "3          NaN  \n",
       "4          NaN  "
      ]
     },
     "execution_count": 21,
     "metadata": {},
     "output_type": "execute_result"
    }
   ],
   "source": [
    "flight_ticket_df.head()"
   ]
  },
  {
   "cell_type": "code",
   "execution_count": 22,
   "metadata": {},
   "outputs": [],
   "source": [
    "flight_ticket_df.Date_of_Journey = pd.to_datetime(flight_ticket_df.Date_of_Journey)"
   ]
  },
  {
   "cell_type": "code",
   "execution_count": 23,
   "metadata": {},
   "outputs": [],
   "source": [
    "flight_ticket_df['Dep_Time']=data_df['Dep_Time']\n",
    "flight_ticket_df['Dep_Time']=pd.to_datetime(flight_ticket_df['Dep_Time']).dt.time\n"
   ]
  },
  {
   "cell_type": "code",
   "execution_count": 24,
   "metadata": {},
   "outputs": [],
   "source": [
    "flight_ticket_df['Dep_Time']=pd.to_timedelta(flight_ticket_df['Dep_Time'].astype(str))"
   ]
  },
  {
   "cell_type": "code",
   "execution_count": 25,
   "metadata": {},
   "outputs": [
    {
     "name": "stdout",
     "output_type": "stream",
     "text": [
      "<class 'pandas.core.frame.DataFrame'>\n",
      "RangeIndex: 10683 entries, 0 to 10682\n",
      "Data columns (total 13 columns):\n",
      " #   Column           Non-Null Count  Dtype          \n",
      "---  ------           --------------  -----          \n",
      " 0   Airline          10683 non-null  object         \n",
      " 1   Date_of_Journey  10683 non-null  datetime64[ns] \n",
      " 2   Source           10683 non-null  object         \n",
      " 3   Destination      10683 non-null  object         \n",
      " 4   Route            10683 non-null  object         \n",
      " 5   Dep_Time         10683 non-null  timedelta64[ns]\n",
      " 6   Arrival_Time     10683 non-null  object         \n",
      " 7   Duration         10683 non-null  object         \n",
      " 8   Total_Stops      10683 non-null  category       \n",
      " 9   Additional_Info  10683 non-null  object         \n",
      " 10  Price            10683 non-null  int64          \n",
      " 11  Class            10683 non-null  object         \n",
      " 12  Arrival_Date     4335 non-null   object         \n",
      "dtypes: category(1), datetime64[ns](1), int64(1), object(9), timedelta64[ns](1)\n",
      "memory usage: 1012.3+ KB\n"
     ]
    }
   ],
   "source": [
    "flight_ticket_df.info()"
   ]
  },
  {
   "cell_type": "code",
   "execution_count": 26,
   "metadata": {},
   "outputs": [],
   "source": [
    "#flight_ticket_df.apply(lambda x:pd.datetime.combine(x['Date_of_Journey'],x['Dep_Time']),1)\n",
    "#pd.to_datetime(flight_ticket_df['Date_of_Journey'] + ' ' + flight_ticket_df['Dep_Time'])\n",
    "#flight_ticket_df['Journey_Datetime'] = flight_ticket_df.apply(lambda x: datetime.datetime.combine(x['Date_of_Journey'], x['Dep_Time']), axis=1)"
   ]
  },
  {
   "cell_type": "code",
   "execution_count": 27,
   "metadata": {},
   "outputs": [],
   "source": [
    "flight_ticket_df['Duration'] = flight_ticket_df.Duration.apply(lambda x: x.strip())"
   ]
  },
  {
   "cell_type": "code",
   "execution_count": 28,
   "metadata": {},
   "outputs": [
    {
     "data": {
      "text/html": [
       "<div>\n",
       "<style scoped>\n",
       "    .dataframe tbody tr th:only-of-type {\n",
       "        vertical-align: middle;\n",
       "    }\n",
       "\n",
       "    .dataframe tbody tr th {\n",
       "        vertical-align: top;\n",
       "    }\n",
       "\n",
       "    .dataframe thead th {\n",
       "        text-align: right;\n",
       "    }\n",
       "</style>\n",
       "<table border=\"1\" class=\"dataframe\">\n",
       "  <thead>\n",
       "    <tr style=\"text-align: right;\">\n",
       "      <th></th>\n",
       "      <th>Airline</th>\n",
       "      <th>Date_of_Journey</th>\n",
       "      <th>Source</th>\n",
       "      <th>Destination</th>\n",
       "      <th>Route</th>\n",
       "      <th>Dep_Time</th>\n",
       "      <th>Arrival_Time</th>\n",
       "      <th>Duration</th>\n",
       "      <th>Total_Stops</th>\n",
       "      <th>Additional_Info</th>\n",
       "      <th>Price</th>\n",
       "      <th>Class</th>\n",
       "      <th>Arrival_Date</th>\n",
       "    </tr>\n",
       "  </thead>\n",
       "  <tbody>\n",
       "    <tr>\n",
       "      <th>0</th>\n",
       "      <td>IndiGo</td>\n",
       "      <td>2019-03-24</td>\n",
       "      <td>Banglore</td>\n",
       "      <td>Delhi</td>\n",
       "      <td>BLR → DEL</td>\n",
       "      <td>22:20:00</td>\n",
       "      <td>01:10 22 Mar</td>\n",
       "      <td>2h 50m</td>\n",
       "      <td>0</td>\n",
       "      <td>No info</td>\n",
       "      <td>3897</td>\n",
       "      <td>economy</td>\n",
       "      <td>22 Mar</td>\n",
       "    </tr>\n",
       "    <tr>\n",
       "      <th>1</th>\n",
       "      <td>Air India</td>\n",
       "      <td>2019-01-05</td>\n",
       "      <td>Kolkata</td>\n",
       "      <td>Banglore</td>\n",
       "      <td>CCU → IXR → BBI → BLR</td>\n",
       "      <td>05:50:00</td>\n",
       "      <td>13:15</td>\n",
       "      <td>7h 25m</td>\n",
       "      <td>2</td>\n",
       "      <td>No info</td>\n",
       "      <td>7662</td>\n",
       "      <td>economy</td>\n",
       "      <td>NaN</td>\n",
       "    </tr>\n",
       "    <tr>\n",
       "      <th>2</th>\n",
       "      <td>Jet Airways</td>\n",
       "      <td>2019-09-06</td>\n",
       "      <td>Delhi</td>\n",
       "      <td>Cochin</td>\n",
       "      <td>DEL → LKO → BOM → COK</td>\n",
       "      <td>09:25:00</td>\n",
       "      <td>04:25 10 Jun</td>\n",
       "      <td>19h</td>\n",
       "      <td>2</td>\n",
       "      <td>No info</td>\n",
       "      <td>13882</td>\n",
       "      <td>economy</td>\n",
       "      <td>10 Jun</td>\n",
       "    </tr>\n",
       "    <tr>\n",
       "      <th>3</th>\n",
       "      <td>IndiGo</td>\n",
       "      <td>2019-12-05</td>\n",
       "      <td>Kolkata</td>\n",
       "      <td>Banglore</td>\n",
       "      <td>CCU → NAG → BLR</td>\n",
       "      <td>18:05:00</td>\n",
       "      <td>23:30</td>\n",
       "      <td>5h 25m</td>\n",
       "      <td>1</td>\n",
       "      <td>No info</td>\n",
       "      <td>6218</td>\n",
       "      <td>economy</td>\n",
       "      <td>NaN</td>\n",
       "    </tr>\n",
       "    <tr>\n",
       "      <th>4</th>\n",
       "      <td>IndiGo</td>\n",
       "      <td>2019-01-03</td>\n",
       "      <td>Banglore</td>\n",
       "      <td>Delhi</td>\n",
       "      <td>BLR → NAG → DEL</td>\n",
       "      <td>16:50:00</td>\n",
       "      <td>21:35</td>\n",
       "      <td>4h 45m</td>\n",
       "      <td>1</td>\n",
       "      <td>No info</td>\n",
       "      <td>13302</td>\n",
       "      <td>economy</td>\n",
       "      <td>NaN</td>\n",
       "    </tr>\n",
       "  </tbody>\n",
       "</table>\n",
       "</div>"
      ],
      "text/plain": [
       "       Airline Date_of_Journey    Source Destination                  Route  \\\n",
       "0       IndiGo      2019-03-24  Banglore       Delhi              BLR → DEL   \n",
       "1    Air India      2019-01-05   Kolkata    Banglore  CCU → IXR → BBI → BLR   \n",
       "2  Jet Airways      2019-09-06     Delhi      Cochin  DEL → LKO → BOM → COK   \n",
       "3       IndiGo      2019-12-05   Kolkata    Banglore        CCU → NAG → BLR   \n",
       "4       IndiGo      2019-01-03  Banglore       Delhi        BLR → NAG → DEL   \n",
       "\n",
       "  Dep_Time  Arrival_Time Duration Total_Stops Additional_Info  Price    Class  \\\n",
       "0 22:20:00  01:10 22 Mar   2h 50m           0         No info   3897  economy   \n",
       "1 05:50:00         13:15   7h 25m           2         No info   7662  economy   \n",
       "2 09:25:00  04:25 10 Jun      19h           2         No info  13882  economy   \n",
       "3 18:05:00         23:30   5h 25m           1         No info   6218  economy   \n",
       "4 16:50:00         21:35   4h 45m           1         No info  13302  economy   \n",
       "\n",
       "  Arrival_Date  \n",
       "0       22 Mar  \n",
       "1          NaN  \n",
       "2       10 Jun  \n",
       "3          NaN  \n",
       "4          NaN  "
      ]
     },
     "execution_count": 28,
     "metadata": {},
     "output_type": "execute_result"
    }
   ],
   "source": [
    "flight_ticket_df.head()"
   ]
  },
  {
   "cell_type": "code",
   "execution_count": 29,
   "metadata": {},
   "outputs": [],
   "source": [
    "import re\n",
    "\n",
    "def to_minutes(param):\n",
    "\n",
    "    hour = 0\n",
    "    mnts = 0\n",
    "    if param.find('m')==-1:\n",
    "        \n",
    "        temp = re.findall(r'\\d+', param) \n",
    "        res = list(map(int, temp))\n",
    "        hour = res[0]\n",
    "    elif param.find('h')==-1:\n",
    "        temp = re.findall(r'\\d+', param) \n",
    "        res = list(map(int, temp))\n",
    "        mnts = res[0]\n",
    "    else:\n",
    "        temp = re.findall(r'\\d+', param)\n",
    "        res = list(map(int, temp))\n",
    "        hour = res[0]\n",
    "        mnts = res[1]\n",
    "        \n",
    "    total_mins = hour*60 + mnts\n",
    "        \n",
    "    \n",
    "    return(total_mins)"
   ]
  },
  {
   "cell_type": "code",
   "execution_count": 30,
   "metadata": {},
   "outputs": [],
   "source": [
    "flight_ticket_df['Duration_mins'] = flight_ticket_df.Duration.apply(lambda x: to_minutes(x))"
   ]
  },
  {
   "cell_type": "code",
   "execution_count": 31,
   "metadata": {},
   "outputs": [
    {
     "data": {
      "text/plain": [
       "<matplotlib.axes._subplots.AxesSubplot at 0x1d332cc3b88>"
      ]
     },
     "execution_count": 31,
     "metadata": {},
     "output_type": "execute_result"
    },
    {
     "data": {
      "image/png": "[encoded data removed]",
      "text/plain": [
       "<Figure size 432x288 with 1 Axes>"
      ]
     },
     "metadata": {
      "needs_background": "light"
     },
     "output_type": "display_data"
    }
   ],
   "source": [
    "sns.lineplot(x='Duration_mins', y='Price', data=flight_ticket_df)"
   ]
  },
  {
   "cell_type": "markdown",
   "metadata": {},
   "source": [
    "     There is an positive increasing trend in prices with the travel duration"
   ]
  },
  {
   "cell_type": "code",
   "execution_count": 32,
   "metadata": {},
   "outputs": [
    {
     "data": {
      "text/html": [
       "<div>\n",
       "<style scoped>\n",
       "    .dataframe tbody tr th:only-of-type {\n",
       "        vertical-align: middle;\n",
       "    }\n",
       "\n",
       "    .dataframe tbody tr th {\n",
       "        vertical-align: top;\n",
       "    }\n",
       "\n",
       "    .dataframe thead th {\n",
       "        text-align: right;\n",
       "    }\n",
       "</style>\n",
       "<table border=\"1\" class=\"dataframe\">\n",
       "  <thead>\n",
       "    <tr style=\"text-align: right;\">\n",
       "      <th></th>\n",
       "      <th>Airline</th>\n",
       "      <th>Date_of_Journey</th>\n",
       "      <th>Source</th>\n",
       "      <th>Destination</th>\n",
       "      <th>Route</th>\n",
       "      <th>Dep_Time</th>\n",
       "      <th>Arrival_Time</th>\n",
       "      <th>Duration</th>\n",
       "      <th>Total_Stops</th>\n",
       "      <th>Additional_Info</th>\n",
       "      <th>Price</th>\n",
       "      <th>Class</th>\n",
       "      <th>Arrival_Date</th>\n",
       "      <th>Duration_mins</th>\n",
       "    </tr>\n",
       "  </thead>\n",
       "  <tbody>\n",
       "    <tr>\n",
       "      <th>6474</th>\n",
       "      <td>Air India</td>\n",
       "      <td>2019-06-03</td>\n",
       "      <td>Mumbai</td>\n",
       "      <td>Hyderabad</td>\n",
       "      <td>BOM → GOI → PNQ → HYD</td>\n",
       "      <td>16:50:00</td>\n",
       "      <td>16:55</td>\n",
       "      <td>5m</td>\n",
       "      <td>2</td>\n",
       "      <td>No info</td>\n",
       "      <td>17327</td>\n",
       "      <td>economy</td>\n",
       "      <td>NaN</td>\n",
       "      <td>5</td>\n",
       "    </tr>\n",
       "  </tbody>\n",
       "</table>\n",
       "</div>"
      ],
      "text/plain": [
       "        Airline Date_of_Journey  Source Destination                  Route  \\\n",
       "6474  Air India      2019-06-03  Mumbai   Hyderabad  BOM → GOI → PNQ → HYD   \n",
       "\n",
       "     Dep_Time Arrival_Time Duration Total_Stops Additional_Info  Price  \\\n",
       "6474 16:50:00        16:55       5m           2         No info  17327   \n",
       "\n",
       "        Class Arrival_Date  Duration_mins  \n",
       "6474  economy          NaN              5  "
      ]
     },
     "execution_count": 32,
     "metadata": {},
     "output_type": "execute_result"
    }
   ],
   "source": [
    "flight_ticket_df[flight_ticket_df['Duration_mins']<60]"
   ]
  },
  {
   "cell_type": "markdown",
   "metadata": {},
   "source": [
    "    This is clearly an outlier because there is no way a flight can make a 2 stop travel in 5 mins unless its a star wars space ship so we will be removing this outlier there has clearly been some wrong data entry but we dont know for sure"
   ]
  },
  {
   "cell_type": "code",
   "execution_count": 33,
   "metadata": {},
   "outputs": [],
   "source": [
    "# removed outlier\n",
    "flight_ticket_df = flight_ticket_df[flight_ticket_df['Duration_mins']>60]"
   ]
  },
  {
   "cell_type": "code",
   "execution_count": 34,
   "metadata": {},
   "outputs": [
    {
     "name": "stdout",
     "output_type": "stream",
     "text": [
      "<class 'pandas.core.frame.DataFrame'>\n",
      "Int64Index: 10682 entries, 0 to 10682\n",
      "Data columns (total 14 columns):\n",
      " #   Column           Non-Null Count  Dtype          \n",
      "---  ------           --------------  -----          \n",
      " 0   Airline          10682 non-null  object         \n",
      " 1   Date_of_Journey  10682 non-null  datetime64[ns] \n",
      " 2   Source           10682 non-null  object         \n",
      " 3   Destination      10682 non-null  object         \n",
      " 4   Route            10682 non-null  object         \n",
      " 5   Dep_Time         10682 non-null  timedelta64[ns]\n",
      " 6   Arrival_Time     10682 non-null  object         \n",
      " 7   Duration         10682 non-null  object         \n",
      " 8   Total_Stops      10682 non-null  category       \n",
      " 9   Additional_Info  10682 non-null  object         \n",
      " 10  Price            10682 non-null  int64          \n",
      " 11  Class            10682 non-null  object         \n",
      " 12  Arrival_Date     4335 non-null   object         \n",
      " 13  Duration_mins    10682 non-null  int64          \n",
      "dtypes: category(1), datetime64[ns](1), int64(2), object(9), timedelta64[ns](1)\n",
      "memory usage: 1.2+ MB\n"
     ]
    }
   ],
   "source": [
    "flight_ticket_df.info()"
   ]
  },
  {
   "cell_type": "code",
   "execution_count": 35,
   "metadata": {},
   "outputs": [],
   "source": [
    "flight_ticket_df['Dep_Datetime'] = flight_ticket_df.Date_of_Journey + flight_ticket_df.Dep_Time"
   ]
  },
  {
   "cell_type": "code",
   "execution_count": 36,
   "metadata": {},
   "outputs": [
    {
     "data": {
      "text/plain": [
       "'2020-09-18 09:13:01'"
      ]
     },
     "execution_count": 36,
     "metadata": {},
     "output_type": "execute_result"
    }
   ],
   "source": [
    "pd.to_datetime(datetime.datetime.now() + datetime.timedelta(minutes = 1500)).strftime(\"%Y-%m-%d %H:%M:%S\")"
   ]
  },
  {
   "cell_type": "code",
   "execution_count": 37,
   "metadata": {},
   "outputs": [],
   "source": [
    "def fill_Arr_Datetime(x):\n",
    "    Date = x['Dep_Datetime'] \n",
    "    Time = datetime.timedelta(minutes = x['Duration_mins'])\n",
    "    return(Date + Time).strftime(\"%Y-%m-%d %H:%M:%S\")\n",
    "    "
   ]
  },
  {
   "cell_type": "code",
   "execution_count": 38,
   "metadata": {},
   "outputs": [],
   "source": [
    "flight_ticket_df['Arr_Datetime'] = flight_ticket_df.apply(lambda x: fill_Arr_Datetime(x), axis=1) \n",
    "flight_ticket_df['Arr_Datetime'] = pd.to_datetime(flight_ticket_df['Arr_Datetime'])"
   ]
  },
  {
   "cell_type": "code",
   "execution_count": 39,
   "metadata": {},
   "outputs": [
    {
     "data": {
      "text/plain": [
       "Text(0.5, 1.0, 'Weekly Price change')"
      ]
     },
     "execution_count": 39,
     "metadata": {},
     "output_type": "execute_result"
    },
    {
     "data": {
      "image/png": "[encoded data removed]",
      "text/plain": [
       "<Figure size 432x288 with 1 Axes>"
      ]
     },
     "metadata": {
      "needs_background": "light"
     },
     "output_type": "display_data"
    }
   ],
   "source": [
    "sns.lineplot(x=flight_ticket_df['Dep_Datetime'].dt.dayofweek, y=flight_ticket_df.Price, ci='sd')\n",
    "plt.title(\"Weekly Price change\")"
   ]
  },
  {
   "cell_type": "markdown",
   "metadata": {},
   "source": [
    "    The ticket prices are usually decided by the airlines itself, Now we see a dip in the trend line at the begining of the week because this is when the airlines start issuing lower prices and there is an increase of prices during Thursdays because the prices are jacked on that day since many people who travel on weekend will buy tickets\n",
    "    Since this is a cyclic pattern that happens over the year and normal method of operation for airlines we will include this in model building"
   ]
  },
  {
   "cell_type": "code",
   "execution_count": 40,
   "metadata": {},
   "outputs": [
    {
     "data": {
      "text/plain": [
       "Text(0.5, 1.0, 'Monthly Price change')"
      ]
     },
     "execution_count": 40,
     "metadata": {},
     "output_type": "execute_result"
    },
    {
     "data": {
      "image/png": "[encoded data removed]",
      "text/plain": [
       "<Figure size 432x288 with 1 Axes>"
      ]
     },
     "metadata": {
      "needs_background": "light"
     },
     "output_type": "display_data"
    }
   ],
   "source": [
    "sns.lineplot(x=pd.DatetimeIndex(flight_ticket_df.Dep_Datetime).month, y=flight_ticket_df.Price, ci='sd')\n",
    "plt.title(\"Monthly Price change\")"
   ]
  },
  {
   "cell_type": "markdown",
   "metadata": {},
   "source": [
    "        There is a drastic drop in prices in the month of April. This is because this is a dataset mainly from the year 2019 and on April 2019 Domestic air traffic fell in india, but this happened for he firt time in 6 years so we will not include this in our model building. This happened because on that month Jetairways grounded its entire fleet leadng to some capacity cuts.\n",
    "        Other than that the prices are are pretty standard throughout the year\n",
    "        We will not checck for hourly because the airlines dont change prices hourly because that is illegal"
   ]
  },
  {
   "cell_type": "code",
   "execution_count": 74,
   "metadata": {},
   "outputs": [
    {
     "data": {
      "text/plain": [
       "Text(0.5, 1.0, 'Monthly Price change')"
      ]
     },
     "execution_count": 74,
     "metadata": {},
     "output_type": "execute_result"
    },
    {
     "data": {
      "image/png": "[encoded data removed]",
      "text/plain": [
       "<Figure size 576x360 with 1 Axes>"
      ]
     },
     "metadata": {},
     "output_type": "display_data"
    }
   ],
   "source": [
    "plt.figure(figsize=(8,5))\n",
    "sns.lineplot(x=pd.DatetimeIndex(flight_ticket_df.Dep_Datetime).month, y=flight_ticket_df.Price, hue=flight_ticket_df['Airline'])\n",
    "plt.title(\"Monthly Price change\")"
   ]
  },
  {
   "cell_type": "code",
   "execution_count": 41,
   "metadata": {},
   "outputs": [],
   "source": [
    "flight_ticket_df['Dep_Dayofweek'] = flight_ticket_df['Dep_Datetime'].dt.dayofweek"
   ]
  },
  {
   "cell_type": "code",
   "execution_count": 75,
   "metadata": {},
   "outputs": [],
   "source": [
    "flight_ticket_df['Dep_Monthofyear'] = flight_ticket_df['Dep_Datetime'].dt.month"
   ]
  },
  {
   "cell_type": "code",
   "execution_count": 42,
   "metadata": {},
   "outputs": [
    {
     "data": {
      "text/plain": [
       "(array([0, 1, 2, 3, 4, 5, 6, 7, 8]),\n",
       " <a list of 9 Text major ticklabel objects>)"
      ]
     },
     "execution_count": 42,
     "metadata": {},
     "output_type": "execute_result"
    },
    {
     "data": {
      "image/png": "[encoded data removed]",
      "text/plain": [
       "<Figure size 432x288 with 1 Axes>"
      ]
     },
     "metadata": {},
     "output_type": "display_data"
    }
   ],
   "source": [
    "sns.set_style('darkgrid')\n",
    "sns.countplot(flight_ticket_df.Airline,color='green', edgecolor='black')\n",
    "plt.xticks(rotation=45)"
   ]
  },
  {
   "cell_type": "code",
   "execution_count": 43,
   "metadata": {},
   "outputs": [],
   "source": [
    "temp_df = flight_ticket_df.groupby(['Airline']).agg({'Airline':'count'}).rename(columns={'Airline':'Total_Numbers'}).sort_values(by='Total_Numbers', ascending=False)\n",
    "temp_df['pop_idx']= round(temp_df['Total_Numbers']/len(flight_ticket_df),2)\n",
    "temp_df.reset_index(inplace=True)"
   ]
  },
  {
   "cell_type": "markdown",
   "metadata": {},
   "source": [
    "    The domestic airline market in india has a tough competetion leading to some airlines dominating the market and some of them are spread out with relatively lesser penetration. We had also previously seen that the markets for jetairways had suddenly fallen leading to some market redistribuition. \n",
    "    These kinds of unpredectability will be accounted for by using a popularity index ratio that will change based on the current market and the airline dominance will be taken into account because we clearely see the prices differ based on different airlines in the EDA part."
   ]
  },
  {
   "cell_type": "code",
   "execution_count": 44,
   "metadata": {},
   "outputs": [],
   "source": [
    "flight_ticket_df = pd.merge(flight_ticket_df, temp_df, left_on=\"Airline\", right_on=\"Airline\")"
   ]
  },
  {
   "cell_type": "code",
   "execution_count": 45,
   "metadata": {},
   "outputs": [
    {
     "data": {
      "text/html": [
       "<div>\n",
       "<style scoped>\n",
       "    .dataframe tbody tr th:only-of-type {\n",
       "        vertical-align: middle;\n",
       "    }\n",
       "\n",
       "    .dataframe tbody tr th {\n",
       "        vertical-align: top;\n",
       "    }\n",
       "\n",
       "    .dataframe thead th {\n",
       "        text-align: right;\n",
       "    }\n",
       "</style>\n",
       "<table border=\"1\" class=\"dataframe\">\n",
       "  <thead>\n",
       "    <tr style=\"text-align: right;\">\n",
       "      <th></th>\n",
       "      <th>Airline</th>\n",
       "      <th>Date_of_Journey</th>\n",
       "      <th>Source</th>\n",
       "      <th>Destination</th>\n",
       "      <th>Route</th>\n",
       "      <th>Dep_Time</th>\n",
       "      <th>Arrival_Time</th>\n",
       "      <th>Duration</th>\n",
       "      <th>Total_Stops</th>\n",
       "      <th>Additional_Info</th>\n",
       "      <th>Price</th>\n",
       "      <th>Class</th>\n",
       "      <th>Arrival_Date</th>\n",
       "      <th>Duration_mins</th>\n",
       "      <th>Dep_Datetime</th>\n",
       "      <th>Arr_Datetime</th>\n",
       "      <th>Dep_Dayofweek</th>\n",
       "      <th>Total_Numbers</th>\n",
       "      <th>pop_idx</th>\n",
       "    </tr>\n",
       "  </thead>\n",
       "  <tbody>\n",
       "    <tr>\n",
       "      <th>0</th>\n",
       "      <td>IndiGo</td>\n",
       "      <td>2019-03-24</td>\n",
       "      <td>Banglore</td>\n",
       "      <td>Delhi</td>\n",
       "      <td>BLR → DEL</td>\n",
       "      <td>22:20:00</td>\n",
       "      <td>01:10 22 Mar</td>\n",
       "      <td>2h 50m</td>\n",
       "      <td>0</td>\n",
       "      <td>No info</td>\n",
       "      <td>3897</td>\n",
       "      <td>economy</td>\n",
       "      <td>22 Mar</td>\n",
       "      <td>170</td>\n",
       "      <td>2019-03-24 22:20:00</td>\n",
       "      <td>2019-03-25 01:10:00</td>\n",
       "      <td>6</td>\n",
       "      <td>2053</td>\n",
       "      <td>0.19</td>\n",
       "    </tr>\n",
       "  </tbody>\n",
       "</table>\n",
       "</div>"
      ],
      "text/plain": [
       "  Airline Date_of_Journey    Source Destination      Route Dep_Time  \\\n",
       "0  IndiGo      2019-03-24  Banglore       Delhi  BLR → DEL 22:20:00   \n",
       "\n",
       "   Arrival_Time Duration Total_Stops Additional_Info  Price    Class  \\\n",
       "0  01:10 22 Mar   2h 50m           0         No info   3897  economy   \n",
       "\n",
       "  Arrival_Date  Duration_mins        Dep_Datetime        Arr_Datetime  \\\n",
       "0       22 Mar            170 2019-03-24 22:20:00 2019-03-25 01:10:00   \n",
       "\n",
       "   Dep_Dayofweek  Total_Numbers  pop_idx  \n",
       "0              6           2053     0.19  "
      ]
     },
     "execution_count": 45,
     "metadata": {},
     "output_type": "execute_result"
    }
   ],
   "source": [
    "flight_ticket_df.head(1)"
   ]
  },
  {
   "cell_type": "code",
   "execution_count": 46,
   "metadata": {},
   "outputs": [
    {
     "data": {
      "text/plain": [
       "No info                         8347\n",
       "In-flight meal not included     1982\n",
       "No check-in baggage included     320\n",
       "1 Long layover                    19\n",
       "Change airports                    7\n",
       "Business class                     4\n",
       "1 Short layover                    1\n",
       "2 Long layover                     1\n",
       "Red-eye flight                     1\n",
       "Name: Additional_Info, dtype: int64"
      ]
     },
     "execution_count": 46,
     "metadata": {},
     "output_type": "execute_result"
    }
   ],
   "source": [
    "flight_ticket_df.Additional_Info.value_counts()"
   ]
  },
  {
   "cell_type": "markdown",
   "metadata": {},
   "source": [
    "    We will also account for the NoMeal and NoBaggage factors and exclude some of them like layover, airport change and Red-eye flights because they are very less in number compared to the 10k records and chances of overfitting are there."
   ]
  },
  {
   "cell_type": "code",
   "execution_count": 47,
   "metadata": {},
   "outputs": [],
   "source": [
    "flight_ticket_df[\"isNoMeal\"]=flight_ticket_df.Additional_Info.apply(lambda x: 1 if x==\"In-flight meal not included\" else 0)\n",
    "flight_ticket_df[\"isNoBaggage\"]=flight_ticket_df.Additional_Info.apply(lambda x: 1 if x==\"No check-in baggage included\" else 0)\n"
   ]
  },
  {
   "cell_type": "code",
   "execution_count": 48,
   "metadata": {},
   "outputs": [
    {
     "data": {
      "text/plain": [
       "<matplotlib.axes._subplots.AxesSubplot at 0x1d3329079c8>"
      ]
     },
     "execution_count": 48,
     "metadata": {},
     "output_type": "execute_result"
    },
    {
     "data": {
      "image/png": "[encoded data removed]",
      "text/plain": [
       "<Figure size 432x288 with 1 Axes>"
      ]
     },
     "metadata": {},
     "output_type": "display_data"
    }
   ],
   "source": [
    "flight_ticket_df.groupby(['Source']).agg({'Price':'mean'}).plot(kind='bar')"
   ]
  },
  {
   "cell_type": "code",
   "execution_count": 49,
   "metadata": {},
   "outputs": [
    {
     "data": {
      "text/plain": [
       "<matplotlib.axes._subplots.AxesSubplot at 0x1d3329b8048>"
      ]
     },
     "execution_count": 49,
     "metadata": {},
     "output_type": "execute_result"
    },
    {
     "data": {
      "image/png": "[encoded data removed]",
      "text/plain": [
       "<Figure size 432x288 with 1 Axes>"
      ]
     },
     "metadata": {},
     "output_type": "display_data"
    }
   ],
   "source": [
    "flight_ticket_df.groupby(['Destination']).agg({'Price':'mean'}).plot(kind='bar')"
   ]
  },
  {
   "cell_type": "markdown",
   "metadata": {},
   "source": [
    "    The ticket price to destination or from source varies based on competition usually in big airport hubs there are many platforms so the prices are less but to destinations where there is lesser traffic the prices are higher and there could be other reasons based on the traffic to that place\n",
    "    So we will take two divisions for source and destination Prime city or Not"
   ]
  },
  {
   "cell_type": "code",
   "execution_count": 50,
   "metadata": {},
   "outputs": [],
   "source": [
    "prime_source = ['Banglore', 'Delhi', 'Kolkata']\n",
    "prime_destination = ['Banglore', 'Delhi', 'Cochin']\n",
    "\n",
    "flight_ticket_df[\"isPrimeSource\"]=flight_ticket_df.apply(lambda x: 1 if x['Source'] in prime_source else 0, axis=1)\n",
    "flight_ticket_df[\"isPrimeDestination\"]=flight_ticket_df.apply(lambda x: 1 if x['Destination'] in prime_destination else 0, axis=1)\n"
   ]
  },
  {
   "cell_type": "code",
   "execution_count": 76,
   "metadata": {},
   "outputs": [
    {
     "data": {
      "text/plain": [
       "Index(['Airline', 'Date_of_Journey', 'Source', 'Destination', 'Route',\n",
       "       'Dep_Time', 'Arrival_Time', 'Duration', 'Total_Stops',\n",
       "       'Additional_Info', 'Price', 'Class', 'Arrival_Date', 'Duration_mins',\n",
       "       'Dep_Datetime', 'Arr_Datetime', 'Dep_Dayofweek', 'Total_Numbers',\n",
       "       'pop_idx', 'isNoMeal', 'isNoBaggage', 'isPrimeSource',\n",
       "       'isPrimeDestination', 'Dep_Monthofyear'],\n",
       "      dtype='object')"
      ]
     },
     "execution_count": 76,
     "metadata": {},
     "output_type": "execute_result"
    }
   ],
   "source": [
    "flight_ticket_df.columns"
   ]
  },
  {
   "cell_type": "code",
   "execution_count": 79,
   "metadata": {},
   "outputs": [],
   "source": [
    "model_df = flight_ticket_df.drop(columns=['Airline', 'Date_of_Journey', 'Source', 'Destination', 'Route', 'Dep_Time', 'Arrival_Time', 'Duration', 'Arrival_Date','Additional_Info','Total_Numbers','Dep_Datetime','Arr_Datetime'])"
   ]
  },
  {
   "cell_type": "code",
   "execution_count": 80,
   "metadata": {},
   "outputs": [
    {
     "name": "stdout",
     "output_type": "stream",
     "text": [
      "<class 'pandas.core.frame.DataFrame'>\n",
      "Int64Index: 10682 entries, 0 to 10681\n",
      "Data columns (total 11 columns):\n",
      " #   Column              Non-Null Count  Dtype   \n",
      "---  ------              --------------  -----   \n",
      " 0   Total_Stops         10682 non-null  category\n",
      " 1   Price               10682 non-null  int64   \n",
      " 2   Class               10682 non-null  object  \n",
      " 3   Duration_mins       10682 non-null  int64   \n",
      " 4   Dep_Dayofweek       10682 non-null  int64   \n",
      " 5   pop_idx             10682 non-null  float64 \n",
      " 6   isNoMeal            10682 non-null  int64   \n",
      " 7   isNoBaggage         10682 non-null  int64   \n",
      " 8   isPrimeSource       10682 non-null  int64   \n",
      " 9   isPrimeDestination  10682 non-null  int64   \n",
      " 10  Dep_Monthofyear     10682 non-null  int64   \n",
      "dtypes: category(1), float64(1), int64(8), object(1)\n",
      "memory usage: 928.6+ KB\n"
     ]
    }
   ],
   "source": [
    "model_df.info()"
   ]
  },
  {
   "cell_type": "code",
   "execution_count": 81,
   "metadata": {},
   "outputs": [],
   "source": [
    "catcols = ['Class', 'Dep_Dayofweek', 'isNoMeal', 'isNoBaggage', 'isPrimeSource', 'isPrimeDestination','Dep_Monthofyear']\n",
    "for i in catcols:\n",
    "    \n",
    "    model_df[i] = model_df[i].astype('category')"
   ]
  },
  {
   "cell_type": "code",
   "execution_count": 82,
   "metadata": {},
   "outputs": [],
   "source": [
    "ord_encoder = OrdinalEncoder()\n",
    "model_df.Total_Stops = ord_encoder.fit_transform(np.array(model_df.Total_Stops).reshape(-1,1))\n"
   ]
  },
  {
   "cell_type": "code",
   "execution_count": 83,
   "metadata": {},
   "outputs": [],
   "source": [
    "model_df = pd.get_dummies(data=model_df, columns=['Class'])"
   ]
  },
  {
   "cell_type": "code",
   "execution_count": 57,
   "metadata": {},
   "outputs": [
    {
     "data": {
      "text/html": [
       "<div>\n",
       "<style scoped>\n",
       "    .dataframe tbody tr th:only-of-type {\n",
       "        vertical-align: middle;\n",
       "    }\n",
       "\n",
       "    .dataframe tbody tr th {\n",
       "        vertical-align: top;\n",
       "    }\n",
       "\n",
       "    .dataframe thead th {\n",
       "        text-align: right;\n",
       "    }\n",
       "</style>\n",
       "<table border=\"1\" class=\"dataframe\">\n",
       "  <thead>\n",
       "    <tr style=\"text-align: right;\">\n",
       "      <th></th>\n",
       "      <th>Total_Stops</th>\n",
       "      <th>Price</th>\n",
       "      <th>Duration_mins</th>\n",
       "      <th>Dep_Dayofweek</th>\n",
       "      <th>pop_idx</th>\n",
       "      <th>isNoMeal</th>\n",
       "      <th>isNoBaggage</th>\n",
       "      <th>isPrimeSource</th>\n",
       "      <th>isPrimeDestination</th>\n",
       "      <th>Class_business</th>\n",
       "      <th>Class_economy</th>\n",
       "      <th>Class_premium</th>\n",
       "    </tr>\n",
       "  </thead>\n",
       "  <tbody>\n",
       "    <tr>\n",
       "      <th>0</th>\n",
       "      <td>0.0</td>\n",
       "      <td>3897</td>\n",
       "      <td>170</td>\n",
       "      <td>6</td>\n",
       "      <td>0.19</td>\n",
       "      <td>0</td>\n",
       "      <td>0</td>\n",
       "      <td>1</td>\n",
       "      <td>1</td>\n",
       "      <td>0</td>\n",
       "      <td>1</td>\n",
       "      <td>0</td>\n",
       "    </tr>\n",
       "    <tr>\n",
       "      <th>1</th>\n",
       "      <td>1.0</td>\n",
       "      <td>6218</td>\n",
       "      <td>325</td>\n",
       "      <td>3</td>\n",
       "      <td>0.19</td>\n",
       "      <td>0</td>\n",
       "      <td>0</td>\n",
       "      <td>1</td>\n",
       "      <td>1</td>\n",
       "      <td>0</td>\n",
       "      <td>1</td>\n",
       "      <td>0</td>\n",
       "    </tr>\n",
       "    <tr>\n",
       "      <th>2</th>\n",
       "      <td>1.0</td>\n",
       "      <td>13302</td>\n",
       "      <td>285</td>\n",
       "      <td>3</td>\n",
       "      <td>0.19</td>\n",
       "      <td>0</td>\n",
       "      <td>0</td>\n",
       "      <td>1</td>\n",
       "      <td>1</td>\n",
       "      <td>0</td>\n",
       "      <td>1</td>\n",
       "      <td>0</td>\n",
       "    </tr>\n",
       "    <tr>\n",
       "      <th>3</th>\n",
       "      <td>0.0</td>\n",
       "      <td>4174</td>\n",
       "      <td>155</td>\n",
       "      <td>3</td>\n",
       "      <td>0.19</td>\n",
       "      <td>0</td>\n",
       "      <td>0</td>\n",
       "      <td>1</td>\n",
       "      <td>1</td>\n",
       "      <td>0</td>\n",
       "      <td>1</td>\n",
       "      <td>0</td>\n",
       "    </tr>\n",
       "    <tr>\n",
       "      <th>4</th>\n",
       "      <td>0.0</td>\n",
       "      <td>4804</td>\n",
       "      <td>155</td>\n",
       "      <td>2</td>\n",
       "      <td>0.19</td>\n",
       "      <td>0</td>\n",
       "      <td>0</td>\n",
       "      <td>1</td>\n",
       "      <td>1</td>\n",
       "      <td>0</td>\n",
       "      <td>1</td>\n",
       "      <td>0</td>\n",
       "    </tr>\n",
       "  </tbody>\n",
       "</table>\n",
       "</div>"
      ],
      "text/plain": [
       "   Total_Stops  Price  Duration_mins Dep_Dayofweek  pop_idx isNoMeal  \\\n",
       "0          0.0   3897            170             6     0.19        0   \n",
       "1          1.0   6218            325             3     0.19        0   \n",
       "2          1.0  13302            285             3     0.19        0   \n",
       "3          0.0   4174            155             3     0.19        0   \n",
       "4          0.0   4804            155             2     0.19        0   \n",
       "\n",
       "  isNoBaggage isPrimeSource isPrimeDestination  Class_business  Class_economy  \\\n",
       "0           0             1                  1               0              1   \n",
       "1           0             1                  1               0              1   \n",
       "2           0             1                  1               0              1   \n",
       "3           0             1                  1               0              1   \n",
       "4           0             1                  1               0              1   \n",
       "\n",
       "   Class_premium  \n",
       "0              0  \n",
       "1              0  \n",
       "2              0  \n",
       "3              0  \n",
       "4              0  "
      ]
     },
     "execution_count": 57,
     "metadata": {},
     "output_type": "execute_result"
    }
   ],
   "source": [
    "model_df.head()"
   ]
  },
  {
   "cell_type": "markdown",
   "metadata": {},
   "source": [
    "##### Model Building"
   ]
  },
  {
   "cell_type": "code",
   "execution_count": 128,
   "metadata": {},
   "outputs": [],
   "source": [
    "from sklearn.preprocessing import RobustScaler\n",
    "from sklearn.model_selection import train_test_split,GridSearchCV, cross_val_score\n",
    "from sklearn.ensemble import RandomForestRegressor, GradientBoostingRegressor\n",
    "from xgboost import XGBRegressor\n",
    "from sklearn.metrics import mean_absolute_error, mean_squared_error, make_scorer"
   ]
  },
  {
   "cell_type": "code",
   "execution_count": 59,
   "metadata": {},
   "outputs": [],
   "source": [
    "import statsmodels.api as sm\n",
    "from sklearn.linear_model import LinearRegression"
   ]
  },
  {
   "cell_type": "code",
   "execution_count": 84,
   "metadata": {},
   "outputs": [],
   "source": [
    "rob_scaler = RobustScaler()\n",
    "model_df_scaled = rob_scaler.fit_transform(model_df)\n",
    "model_df_scaled = pd.DataFrame(model_df_scaled)\n",
    "model_df_scaled.columns = model_df.columns"
   ]
  },
  {
   "cell_type": "code",
   "execution_count": 85,
   "metadata": {},
   "outputs": [],
   "source": [
    "X = model_df.drop(columns=['Price'])\n",
    "y = model_df.Price"
   ]
  },
  {
   "cell_type": "code",
   "execution_count": 97,
   "metadata": {},
   "outputs": [],
   "source": [
    "X_scaled = model_df_scaled.drop(columns=['Price'])\n",
    "y_scaled = model_df_scaled.Price"
   ]
  },
  {
   "cell_type": "code",
   "execution_count": 96,
   "metadata": {},
   "outputs": [
    {
     "data": {
      "text/html": [
       "<div>\n",
       "<style scoped>\n",
       "    .dataframe tbody tr th:only-of-type {\n",
       "        vertical-align: middle;\n",
       "    }\n",
       "\n",
       "    .dataframe tbody tr th {\n",
       "        vertical-align: top;\n",
       "    }\n",
       "\n",
       "    .dataframe thead th {\n",
       "        text-align: right;\n",
       "    }\n",
       "</style>\n",
       "<table border=\"1\" class=\"dataframe\">\n",
       "  <thead>\n",
       "    <tr style=\"text-align: right;\">\n",
       "      <th></th>\n",
       "      <th>Total_Stops</th>\n",
       "      <th>Price</th>\n",
       "      <th>Duration_mins</th>\n",
       "      <th>Dep_Dayofweek</th>\n",
       "      <th>pop_idx</th>\n",
       "      <th>isNoMeal</th>\n",
       "      <th>isNoBaggage</th>\n",
       "      <th>isPrimeSource</th>\n",
       "      <th>isPrimeDestination</th>\n",
       "      <th>Dep_Monthofyear</th>\n",
       "      <th>Class_business</th>\n",
       "      <th>Class_economy</th>\n",
       "      <th>Class_premium</th>\n",
       "    </tr>\n",
       "  </thead>\n",
       "  <tbody>\n",
       "    <tr>\n",
       "      <th>0</th>\n",
       "      <td>-1.0</td>\n",
       "      <td>-0.630637</td>\n",
       "      <td>-0.460526</td>\n",
       "      <td>1.000000</td>\n",
       "      <td>0.00</td>\n",
       "      <td>0.0</td>\n",
       "      <td>0.0</td>\n",
       "      <td>0.0</td>\n",
       "      <td>0.0</td>\n",
       "      <td>-0.666667</td>\n",
       "      <td>0.0</td>\n",
       "      <td>0.0</td>\n",
       "      <td>0.0</td>\n",
       "    </tr>\n",
       "    <tr>\n",
       "      <th>1</th>\n",
       "      <td>0.0</td>\n",
       "      <td>-0.303551</td>\n",
       "      <td>-0.256579</td>\n",
       "      <td>0.000000</td>\n",
       "      <td>0.00</td>\n",
       "      <td>0.0</td>\n",
       "      <td>0.0</td>\n",
       "      <td>0.0</td>\n",
       "      <td>0.0</td>\n",
       "      <td>2.333333</td>\n",
       "      <td>0.0</td>\n",
       "      <td>0.0</td>\n",
       "      <td>0.0</td>\n",
       "    </tr>\n",
       "    <tr>\n",
       "      <th>2</th>\n",
       "      <td>0.0</td>\n",
       "      <td>0.694758</td>\n",
       "      <td>-0.309211</td>\n",
       "      <td>0.000000</td>\n",
       "      <td>0.00</td>\n",
       "      <td>0.0</td>\n",
       "      <td>0.0</td>\n",
       "      <td>0.0</td>\n",
       "      <td>0.0</td>\n",
       "      <td>-1.333333</td>\n",
       "      <td>0.0</td>\n",
       "      <td>0.0</td>\n",
       "      <td>0.0</td>\n",
       "    </tr>\n",
       "    <tr>\n",
       "      <th>3</th>\n",
       "      <td>-1.0</td>\n",
       "      <td>-0.591601</td>\n",
       "      <td>-0.480263</td>\n",
       "      <td>0.000000</td>\n",
       "      <td>0.00</td>\n",
       "      <td>0.0</td>\n",
       "      <td>0.0</td>\n",
       "      <td>0.0</td>\n",
       "      <td>0.0</td>\n",
       "      <td>-0.333333</td>\n",
       "      <td>0.0</td>\n",
       "      <td>0.0</td>\n",
       "      <td>0.0</td>\n",
       "    </tr>\n",
       "    <tr>\n",
       "      <th>4</th>\n",
       "      <td>-1.0</td>\n",
       "      <td>-0.502818</td>\n",
       "      <td>-0.480263</td>\n",
       "      <td>-0.333333</td>\n",
       "      <td>0.00</td>\n",
       "      <td>0.0</td>\n",
       "      <td>0.0</td>\n",
       "      <td>0.0</td>\n",
       "      <td>0.0</td>\n",
       "      <td>-0.333333</td>\n",
       "      <td>0.0</td>\n",
       "      <td>0.0</td>\n",
       "      <td>0.0</td>\n",
       "    </tr>\n",
       "    <tr>\n",
       "      <th>...</th>\n",
       "      <td>...</td>\n",
       "      <td>...</td>\n",
       "      <td>...</td>\n",
       "      <td>...</td>\n",
       "      <td>...</td>\n",
       "      <td>...</td>\n",
       "      <td>...</td>\n",
       "      <td>...</td>\n",
       "      <td>...</td>\n",
       "      <td>...</td>\n",
       "      <td>...</td>\n",
       "      <td>...</td>\n",
       "      <td>...</td>\n",
       "    </tr>\n",
       "    <tr>\n",
       "      <th>10677</th>\n",
       "      <td>0.0</td>\n",
       "      <td>-0.312852</td>\n",
       "      <td>0.460526</td>\n",
       "      <td>0.333333</td>\n",
       "      <td>-0.64</td>\n",
       "      <td>0.0</td>\n",
       "      <td>0.0</td>\n",
       "      <td>0.0</td>\n",
       "      <td>0.0</td>\n",
       "      <td>2.333333</td>\n",
       "      <td>0.0</td>\n",
       "      <td>0.0</td>\n",
       "      <td>0.0</td>\n",
       "    </tr>\n",
       "    <tr>\n",
       "      <th>10678</th>\n",
       "      <td>-1.0</td>\n",
       "      <td>-0.562007</td>\n",
       "      <td>-0.486842</td>\n",
       "      <td>-0.666667</td>\n",
       "      <td>-0.64</td>\n",
       "      <td>0.0</td>\n",
       "      <td>0.0</td>\n",
       "      <td>0.0</td>\n",
       "      <td>0.0</td>\n",
       "      <td>2.333333</td>\n",
       "      <td>0.0</td>\n",
       "      <td>0.0</td>\n",
       "      <td>0.0</td>\n",
       "    </tr>\n",
       "    <tr>\n",
       "      <th>10679</th>\n",
       "      <td>-1.0</td>\n",
       "      <td>-0.703072</td>\n",
       "      <td>-0.467105</td>\n",
       "      <td>1.000000</td>\n",
       "      <td>-0.64</td>\n",
       "      <td>0.0</td>\n",
       "      <td>0.0</td>\n",
       "      <td>0.0</td>\n",
       "      <td>0.0</td>\n",
       "      <td>-0.666667</td>\n",
       "      <td>0.0</td>\n",
       "      <td>0.0</td>\n",
       "      <td>0.0</td>\n",
       "    </tr>\n",
       "    <tr>\n",
       "      <th>10680</th>\n",
       "      <td>-1.0</td>\n",
       "      <td>-0.601043</td>\n",
       "      <td>-0.486842</td>\n",
       "      <td>-0.333333</td>\n",
       "      <td>-0.64</td>\n",
       "      <td>0.0</td>\n",
       "      <td>0.0</td>\n",
       "      <td>0.0</td>\n",
       "      <td>0.0</td>\n",
       "      <td>1.333333</td>\n",
       "      <td>0.0</td>\n",
       "      <td>0.0</td>\n",
       "      <td>0.0</td>\n",
       "    </tr>\n",
       "    <tr>\n",
       "      <th>10681</th>\n",
       "      <td>0.0</td>\n",
       "      <td>-0.596392</td>\n",
       "      <td>-0.427632</td>\n",
       "      <td>-1.000000</td>\n",
       "      <td>-0.76</td>\n",
       "      <td>0.0</td>\n",
       "      <td>0.0</td>\n",
       "      <td>-1.0</td>\n",
       "      <td>-1.0</td>\n",
       "      <td>0.333333</td>\n",
       "      <td>0.0</td>\n",
       "      <td>0.0</td>\n",
       "      <td>0.0</td>\n",
       "    </tr>\n",
       "  </tbody>\n",
       "</table>\n",
       "<p>10682 rows × 13 columns</p>\n",
       "</div>"
      ],
      "text/plain": [
       "       Total_Stops     Price  Duration_mins  Dep_Dayofweek  pop_idx  isNoMeal  \\\n",
       "0             -1.0 -0.630637      -0.460526       1.000000     0.00       0.0   \n",
       "1              0.0 -0.303551      -0.256579       0.000000     0.00       0.0   \n",
       "2              0.0  0.694758      -0.309211       0.000000     0.00       0.0   \n",
       "3             -1.0 -0.591601      -0.480263       0.000000     0.00       0.0   \n",
       "4             -1.0 -0.502818      -0.480263      -0.333333     0.00       0.0   \n",
       "...            ...       ...            ...            ...      ...       ...   \n",
       "10677          0.0 -0.312852       0.460526       0.333333    -0.64       0.0   \n",
       "10678         -1.0 -0.562007      -0.486842      -0.666667    -0.64       0.0   \n",
       "10679         -1.0 -0.703072      -0.467105       1.000000    -0.64       0.0   \n",
       "10680         -1.0 -0.601043      -0.486842      -0.333333    -0.64       0.0   \n",
       "10681          0.0 -0.596392      -0.427632      -1.000000    -0.76       0.0   \n",
       "\n",
       "       isNoBaggage  isPrimeSource  isPrimeDestination  Dep_Monthofyear  \\\n",
       "0              0.0            0.0                 0.0        -0.666667   \n",
       "1              0.0            0.0                 0.0         2.333333   \n",
       "2              0.0            0.0                 0.0        -1.333333   \n",
       "3              0.0            0.0                 0.0        -0.333333   \n",
       "4              0.0            0.0                 0.0        -0.333333   \n",
       "...            ...            ...                 ...              ...   \n",
       "10677          0.0            0.0                 0.0         2.333333   \n",
       "10678          0.0            0.0                 0.0         2.333333   \n",
       "10679          0.0            0.0                 0.0        -0.666667   \n",
       "10680          0.0            0.0                 0.0         1.333333   \n",
       "10681          0.0           -1.0                -1.0         0.333333   \n",
       "\n",
       "       Class_business  Class_economy  Class_premium  \n",
       "0                 0.0            0.0            0.0  \n",
       "1                 0.0            0.0            0.0  \n",
       "2                 0.0            0.0            0.0  \n",
       "3                 0.0            0.0            0.0  \n",
       "4                 0.0            0.0            0.0  \n",
       "...               ...            ...            ...  \n",
       "10677             0.0            0.0            0.0  \n",
       "10678             0.0            0.0            0.0  \n",
       "10679             0.0            0.0            0.0  \n",
       "10680             0.0            0.0            0.0  \n",
       "10681             0.0            0.0            0.0  \n",
       "\n",
       "[10682 rows x 13 columns]"
      ]
     },
     "execution_count": 96,
     "metadata": {},
     "output_type": "execute_result"
    }
   ],
   "source": [
    "model_df_scaled"
   ]
  },
  {
   "cell_type": "code",
   "execution_count": 98,
   "metadata": {},
   "outputs": [],
   "source": [
    "X_train, X_test, y_train, y_test = train_test_split(X_scaled, y_scaled, test_size=0.2, random_state=1234)"
   ]
  },
  {
   "cell_type": "code",
   "execution_count": 64,
   "metadata": {},
   "outputs": [],
   "source": [
    "def get_rmse(y_act, y_pred):\n",
    "    return  np.sqrt(mean_squared_error(y_act, y_pred))\n",
    "\n",
    "rmse = make_scorer(get_rmse)"
   ]
  },
  {
   "cell_type": "markdown",
   "metadata": {},
   "source": [
    "###### Random Forest"
   ]
  },
  {
   "cell_type": "code",
   "execution_count": 99,
   "metadata": {},
   "outputs": [],
   "source": [
    "random_forest = RandomForestRegressor(n_estimators=400, random_state=123)\n",
    "best_random_forest = GridSearchCV(random_forest, param_grid={'max_depth':[5,10,20], 'bootstrap':[True, False],\n",
    "                                                             'min_samples_split':[5,12,90], 'min_samples_leaf':[1,3,6,10],\n",
    "                                                             'max_features':[None, 'sqrt', 'log2',0.2]}, \n",
    "                                  scoring='neg_mean_squared_error', n_jobs=-1, cv=5)"
   ]
  },
  {
   "cell_type": "code",
   "execution_count": 100,
   "metadata": {},
   "outputs": [
    {
     "data": {
      "text/plain": [
       "GridSearchCV(cv=5,\n",
       "             estimator=RandomForestRegressor(n_estimators=400,\n",
       "                                             random_state=123),\n",
       "             n_jobs=-1,\n",
       "             param_grid={'bootstrap': [True, False], 'max_depth': [5, 10, 20],\n",
       "                         'max_features': [None, 'sqrt', 'log2', 0.2],\n",
       "                         'min_samples_leaf': [1, 3, 6, 10],\n",
       "                         'min_samples_split': [5, 12, 90]},\n",
       "             scoring='neg_mean_squared_error')"
      ]
     },
     "execution_count": 100,
     "metadata": {},
     "output_type": "execute_result"
    }
   ],
   "source": [
    "best_random_forest.fit(X_train, y_train)"
   ]
  },
  {
   "cell_type": "code",
   "execution_count": 101,
   "metadata": {},
   "outputs": [
    {
     "data": {
      "text/plain": [
       "{'bootstrap': True,\n",
       " 'max_depth': 20,\n",
       " 'max_features': None,\n",
       " 'min_samples_leaf': 1,\n",
       " 'min_samples_split': 12}"
      ]
     },
     "execution_count": 101,
     "metadata": {},
     "output_type": "execute_result"
    }
   ],
   "source": [
    "best_random_forest.best_params_"
   ]
  },
  {
   "cell_type": "code",
   "execution_count": 102,
   "metadata": {},
   "outputs": [
    {
     "data": {
      "text/plain": [
       "array([0.30891962, 0.25741003, 0.26358803, 0.32868041, 0.24971357])"
      ]
     },
     "execution_count": 102,
     "metadata": {},
     "output_type": "execute_result"
    }
   ],
   "source": [
    "cross_val_score(best_random_forest.best_estimator_, X_train, y_train, scoring=rmse, n_jobs=-1)"
   ]
  },
  {
   "cell_type": "code",
   "execution_count": 103,
   "metadata": {},
   "outputs": [],
   "source": [
    "RFR1 = RandomForestRegressor( n_estimators=400, max_depth=20, min_samples_split=12, min_samples_leaf=1 ,max_features=None,\n",
    "                                    n_jobs=-1)"
   ]
  },
  {
   "cell_type": "code",
   "execution_count": 104,
   "metadata": {},
   "outputs": [
    {
     "data": {
      "text/plain": [
       "RandomForestRegressor(max_depth=20, max_features=None, min_samples_split=12,\n",
       "                      n_estimators=400, n_jobs=-1)"
      ]
     },
     "execution_count": 104,
     "metadata": {},
     "output_type": "execute_result"
    }
   ],
   "source": [
    "RFR1.fit(X_train, y_train)"
   ]
  },
  {
   "cell_type": "code",
   "execution_count": 105,
   "metadata": {},
   "outputs": [
    {
     "data": {
      "text/plain": [
       "0.8070610735084942"
      ]
     },
     "execution_count": 105,
     "metadata": {},
     "output_type": "execute_result"
    }
   ],
   "source": [
    "RFR1.score(X_test, y_test)"
   ]
  },
  {
   "cell_type": "code",
   "execution_count": 112,
   "metadata": {},
   "outputs": [],
   "source": [
    "RFR2 = RandomForestRegressor(n_estimators=400, oob_score = False, n_jobs = -1,random_state =50,\n",
    "                         max_features = None, min_samples_leaf = 1,warm_start=True,criterion='mse',max_depth=20)"
   ]
  },
  {
   "cell_type": "code",
   "execution_count": null,
   "metadata": {},
   "outputs": [],
   "source": [
    "#######################################################################################################################"
   ]
  },
  {
   "cell_type": "markdown",
   "metadata": {},
   "source": [
    "###### Gradient Boost "
   ]
  },
  {
   "cell_type": "code",
   "execution_count": 117,
   "metadata": {},
   "outputs": [],
   "source": [
    "param_grid={'n_estimators':[300,450,700], 'learning_rate': [0.1, 0.05, 0.02, 0.01], \n",
    "            'max_depth':[2,4,6], 'max_features':[1.0,0.3,0.1] }\n",
    "\n",
    "gbr = GradientBoostingRegressor()\n",
    "\n",
    "best_gbr = GridSearchCV(gbr, param_grid=param_grid, n_jobs=-1, scoring='neg_mean_squared_error', cv=5)"
   ]
  },
  {
   "cell_type": "code",
   "execution_count": 118,
   "metadata": {},
   "outputs": [
    {
     "data": {
      "text/plain": [
       "GridSearchCV(cv=5, estimator=GradientBoostingRegressor(), n_jobs=-1,\n",
       "             param_grid={'learning_rate': [0.1, 0.05, 0.02, 0.01],\n",
       "                         'max_depth': [2, 4, 6],\n",
       "                         'max_features': [1.0, 0.3, 0.1],\n",
       "                         'n_estimators': [300, 450, 700]},\n",
       "             scoring='neg_mean_squared_error')"
      ]
     },
     "execution_count": 118,
     "metadata": {},
     "output_type": "execute_result"
    }
   ],
   "source": [
    "best_gbr.fit(X_train, y_train)"
   ]
  },
  {
   "cell_type": "code",
   "execution_count": 119,
   "metadata": {},
   "outputs": [
    {
     "data": {
      "text/plain": [
       "{'learning_rate': 0.1,\n",
       " 'max_depth': 4,\n",
       " 'max_features': 0.3,\n",
       " 'n_estimators': 700}"
      ]
     },
     "execution_count": 119,
     "metadata": {},
     "output_type": "execute_result"
    }
   ],
   "source": [
    "best_gbr.best_params_"
   ]
  },
  {
   "cell_type": "code",
   "execution_count": 121,
   "metadata": {},
   "outputs": [
    {
     "data": {
      "text/plain": [
       "array([0.28477806, 0.26754393, 0.26016227, 0.31942782, 0.25630075])"
      ]
     },
     "execution_count": 121,
     "metadata": {},
     "output_type": "execute_result"
    }
   ],
   "source": [
    "cross_val_score(best_gbr, X_train, y_train, scoring=rmse, cv=5, n_jobs=-1)"
   ]
  },
  {
   "cell_type": "code",
   "execution_count": 127,
   "metadata": {},
   "outputs": [
    {
     "data": {
      "text/plain": [
       "0.8159786683119526"
      ]
     },
     "execution_count": 127,
     "metadata": {},
     "output_type": "execute_result"
    }
   ],
   "source": [
    "GBR1 = GradientBoostingRegressor(n_estimators=700, max_features=0.3, max_depth=4, learning_rate=0.1)\n",
    "GBR1.fit(X_train, y_train)\n",
    "GBR1.score(X_test, y_test)"
   ]
  },
  {
   "cell_type": "code",
   "execution_count": null,
   "metadata": {},
   "outputs": [],
   "source": [
    "#######################################################################################################################"
   ]
  },
  {
   "cell_type": "markdown",
   "metadata": {},
   "source": [
    "###### XGB "
   ]
  },
  {
   "cell_type": "code",
   "execution_count": 130,
   "metadata": {},
   "outputs": [],
   "source": [
    "param_grid={'n_estimators':[300,450,700,1000], 'learning_rate': [0.1, 0.05, 0.02, 0.01]}\n",
    "\n",
    "xgbr = XGBRegressor()\n",
    "\n",
    "best_xgbr = GridSearchCV(gbr, param_grid=param_grid, n_jobs=-1, scoring='neg_mean_squared_error', cv=5)"
   ]
  },
  {
   "cell_type": "code",
   "execution_count": 131,
   "metadata": {},
   "outputs": [
    {
     "data": {
      "text/plain": [
       "GridSearchCV(cv=5, estimator=GradientBoostingRegressor(), n_jobs=-1,\n",
       "             param_grid={'learning_rate': [0.1, 0.05, 0.02, 0.01],\n",
       "                         'n_estimators': [300, 450, 700, 1000]},\n",
       "             scoring='neg_mean_squared_error')"
      ]
     },
     "execution_count": 131,
     "metadata": {},
     "output_type": "execute_result"
    }
   ],
   "source": [
    "best_xgbr.fit(X_train, y_train)"
   ]
  },
  {
   "cell_type": "code",
   "execution_count": 132,
   "metadata": {},
   "outputs": [
    {
     "data": {
      "text/plain": [
       "{'learning_rate': 0.1, 'n_estimators': 1000}"
      ]
     },
     "execution_count": 132,
     "metadata": {},
     "output_type": "execute_result"
    }
   ],
   "source": [
    "best_xgbr.best_params_"
   ]
  },
  {
   "cell_type": "code",
   "execution_count": 133,
   "metadata": {},
   "outputs": [
    {
     "data": {
      "text/plain": [
       "array([0.27895296, 0.26015436, 0.26162432, 0.31887404, 0.26147161])"
      ]
     },
     "execution_count": 133,
     "metadata": {},
     "output_type": "execute_result"
    }
   ],
   "source": [
    "cross_val_score(best_xgbr.best_estimator_, X_train, y_train, scoring=rmse, cv=5, n_jobs=-1)"
   ]
  },
  {
   "cell_type": "code",
   "execution_count": 145,
   "metadata": {},
   "outputs": [
    {
     "data": {
      "text/plain": [
       "0.7591366565016394"
      ]
     },
     "execution_count": 145,
     "metadata": {},
     "output_type": "execute_result"
    }
   ],
   "source": [
    "XGBR1 = XGBRegressor(n_estimators=750,learning_rate=0.1)\n",
    "XGBR1.fit(X_train, y_train)\n",
    "XGBR1.score(X_test, y_test)"
   ]
  },
  {
   "cell_type": "markdown",
   "metadata": {},
   "source": [
    "    The models are giving accuarcy score upto 80 percent if we include the monthly seasonal trend but since the year 2019 had a major event that overshadowd the seasonlaity this model may not be generalized enough without including the seasonal trend the model scores come up to 70 percent accuracy"
   ]
  }
 ],
 "metadata": {
  "kernelspec": {
   "display_name": "Python 3",
   "language": "python",
   "name": "python3"
  },
  "language_info": {
   "codemirror_mode": {
    "name": "ipython",
    "version": 3
   },
   "file_extension": ".py",
   "mimetype": "text/x-python",
   "name": "python",
   "nbconvert_exporter": "python",
   "pygments_lexer": "ipython3",
   "version": "3.8.3"
  }
 },
 "nbformat": 4,
 "nbformat_minor": 4
}
